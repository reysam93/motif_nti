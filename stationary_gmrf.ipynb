{
 "cells": [
  {
   "cell_type": "markdown",
   "metadata": {},
   "source": [
    "This script offers a preliminary evaluation of a variant of the motif graph learning algorithm that considers the observations follow a GMRF whose precision matrix is given by a polynomial of the GSO."
   ]
  },
  {
   "cell_type": "code",
   "execution_count": 1,
   "metadata": {},
   "outputs": [],
   "source": [
    "import cvxpy as cp\n",
    "import networkx as nx\n",
    "import numpy as np\n",
    "import matplotlib.pyplot as plt\n",
    "\n",
    "import time\n",
    "from joblib import Parallel, delayed\n",
    "from os import cpu_count\n",
    "\n",
    "import src.utils as utils\n",
    "import spectral_nti as snti\n",
    "\n",
    "SEED = 0\n",
    "N_CPUS = cpu_count()\n",
    "np.random.seed(SEED)\n",
    "\n",
    "PATH = './results/gmrf_st/'"
   ]
  },
  {
   "cell_type": "markdown",
   "metadata": {},
   "source": [
    "## Auxiliary functions"
   ]
  },
  {
   "cell_type": "code",
   "execution_count": 2,
   "metadata": {},
   "outputs": [],
   "source": [
    "def est_graph(id, models, MM, L, K, iters, verb=False):\n",
    "    X = utils.create_signals(L, MM[-1])\n",
    "    # X = utils.create_GMRF_st_signals(L, K, MM[-1])\n",
    "\n",
    "    N = X.shape[0]\n",
    "    A_hat = np.zeros((N, N, len(models), len(MM)))\n",
    "    lamd_hat = np.zeros((N, len(models), len(MM)))\n",
    "    for i, M in enumerate(MM):\n",
    "        C_hat = X[:,:M]@X[:,:M].T/M\n",
    "\n",
    "        # Individual standard constraints\n",
    "        for j, model in enumerate(models):\n",
    "            t = time.time()\n",
    "\n",
    "            if model['St']:\n",
    "                est_gr_fn = snti.MGL_Stationary_GMRF\n",
    "                print('St')\n",
    "            else:\n",
    "                print('Non st')\n",
    "                est_gr_fn = snti.MGL\n",
    "\n",
    "            L_hat, _ = est_gr_fn(C_hat, model['gs'], model['bounds'], \n",
    "                                 model['cs'], model['regs'], max_iters=iters,\n",
    "                                 verbose=verb)\n",
    "\n",
    "            lamd_hat[:,j,i], _ = np.linalg.eigh(L_hat) \n",
    "            A_hat[:,:,j,i] = np.diag(np.diag(L_hat)) - L_hat\n",
    "            t = time.time() - t\n",
    "            print('Cov-{}, M-{}: Model: {}-{} - Time(sec): {:.3}'.format(id, M, model['name'],  model['St'], t))\n",
    "    return A_hat, lamd_hat\n",
    "\n",
    "\n",
    "def est_errs(A, lamd, A_hat, lams_hat, sq_err=True):\n",
    "    norm_A = np.linalg.norm(A, 'fro')\n",
    "    norm_lam = np.linalg.norm(lamd, 2)\n",
    "\n",
    "    err_lamb = np.zeros(lams_hat.shape[1:])\n",
    "    err_A = np.zeros(A_hat.shape[2:])\n",
    "    for k in range(A_hat.shape[-1]):\n",
    "        for i in range(A_hat.shape[-2]):\n",
    "            for j in range(A_hat.shape[-3]):\n",
    "                if np.all((A_hat[:,:,j,i,k] == 0)):\n",
    "                    norm_A_hat = 1\n",
    "                    norm_lam_hat = 1\n",
    "                else:\n",
    "                    norm_A_hat = np.linalg.norm(A_hat[:,:,j,i,k], 'fro')\n",
    "                    norm_lam_hat = np.linalg.norm(lams_hat[:,j,i,k], 2)\n",
    "\n",
    "                A_hat_norm = A_hat[:,:,j,i,k]/norm_A_hat\n",
    "                lam_hat_norm = lams_hat[:,j,i,k]/norm_lam_hat\n",
    "                err_A[j,i,k] = np.linalg.norm(A/norm_A-A_hat_norm,'fro')\n",
    "                err_lamb[j,i,k] = np.linalg.norm(lamd/norm_lam-lam_hat_norm, 2)\n",
    "\n",
    "                if sq_err:\n",
    "                    err_A[j,i,k] = err_A[j,i,k]**2\n",
    "                    err_lamb[j,i,k] = err_lamb[j,i,k]**2\n",
    "\n",
    "    return err_A, err_lamb\n",
    "\n",
    "\n",
    "def plot_err(MM, models, err, ylab, semlogy=True, ylim=[]):\n",
    "    plt.figure()\n",
    "    for i, model in enumerate(models):\n",
    "        if semlogy:\n",
    "            plt.semilogy(MM, err[i,:], model['fmt'], label=model['name'],\n",
    "                        linewidth=2, markersize=12)\n",
    "        else:\n",
    "            plt.plot(MM, err[i,:], model['fmt'], label=model['name'],\n",
    "                     linewidth=2, markersize=12)\n",
    "        plt.grid(True)\n",
    "        plt.xlabel('Number of samples')\n",
    "        plt.ylabel(ylab)\n",
    "        plt.legend()\n",
    "        plt.xlim([MM[0], MM[-1]])\n",
    "        if ylim:\n",
    "            plt.ylim(ylim)\n",
    "        plt.tight_layout()\n",
    "\n",
    "\n",
    "def print_err(MM, models, err):\n",
    "    mean_err = np.mean(err, 2)\n",
    "    std = np.std(err, 2)\n",
    "    for i, M in enumerate(MM):\n",
    "        print('M:', M)\n",
    "        for j, model in enumerate(models):\n",
    "            print('\\t{}: mean err: {:.6f} - std: {:.6f}'.\n",
    "                   format(model['name'], mean_err[j,i], std[j,i]))"
   ]
  },
  {
   "cell_type": "markdown",
   "metadata": {},
   "source": [
    "## Create graphs"
   ]
  },
  {
   "cell_type": "code",
   "execution_count": 3,
   "metadata": {},
   "outputs": [
    {
     "name": "stdout",
     "output_type": "stream",
     "text": [
      "Norm of A: 7.874007874011811\n",
      "Norm of lambdas: 16.248076809271918\n"
     ]
    },
    {
     "data": {
      "text/plain": [
       "Text(0.5, 1.0, 'True Lambdas, N: 20')"
      ]
     },
     "execution_count": 3,
     "metadata": {},
     "output_type": "execute_result"
    },
    {
     "data": {
      "image/png": "[encoded data removed]",
      "text/plain": [
       "<Figure size 432x288 with 2 Axes>"
      ]
     },
     "metadata": {
      "needs_background": "light"
     },
     "output_type": "display_data"
    },
    {
     "data": {
      "image/png": "[encoded data removed]",
      "text/plain": [
       "<Figure size 432x288 with 2 Axes>"
      ]
     },
     "metadata": {
      "needs_background": "light"
     },
     "output_type": "display_data"
    }
   ],
   "source": [
    "# Ref graph\n",
    "n01 = 10\n",
    "n02 = 5\n",
    "N0 = n01*n02\n",
    "A0 = nx.to_numpy_array(nx.grid_2d_graph(n01, n02))\n",
    "L0 = np.diag(np.sum(A0, 0)) - A0\n",
    "lambdas0, _ = np.linalg.eigh(L0)\n",
    "\n",
    "# Target graph\n",
    "n1 = 5\n",
    "n2 = 4\n",
    "N = n1*n2\n",
    "A = nx.to_numpy_array(nx.grid_2d_graph(n1, n2))\n",
    "L = np.diag(np.sum(A, 0)) - A\n",
    "lambdas, V = np.linalg.eigh(L)\n",
    "\n",
    "norm_A = np.linalg.norm(A,'fro')\n",
    "norm_lamb = np.linalg.norm(lambdas)\n",
    "\n",
    "print('Norm of A:', norm_A)\n",
    "print('Norm of lambdas:', norm_lamb)\n",
    "\n",
    "# Plot graphs and spectrum distribution\n",
    "plt.figure()\n",
    "plt.subplot(1,2,1)\n",
    "plt.imshow(A0)\n",
    "plt.title('Ref A, N0: ' + str(N0))\n",
    "plt.subplot(1,2,2)\n",
    "plt.imshow(A)\n",
    "plt.title('True A, N: ' + str(N))\n",
    "    \n",
    "figs, axs = plt.subplots(1, 2, sharey=True)\n",
    "axs[0].hist(lambdas0, density=True)\n",
    "axs[0].set_title('Ref Lambdas, N0: ' + str(N0))\n",
    "axs[1].hist(lambdas, density=True)\n",
    "axs[1].set_title('True Lambdas, N: ' + str(N))"
   ]
  },
  {
   "cell_type": "markdown",
   "metadata": {},
   "source": [
    "## Compare contraints"
   ]
  },
  {
   "cell_type": "code",
   "execution_count": 4,
   "metadata": {},
   "outputs": [
    {
     "name": "stdout",
     "output_type": "stream",
     "text": [
      "\tc-0: c: 3.100\tc0: 3.400\terr: -0.300000\terr norm: -0.088235\n",
      "\tc-1: c: 13.200\tc0: 15.360\terr: -2.160000\terr norm: -0.140625\n",
      "\tc-2: c: 0.125\tc0: 0.125\terr: -0.000055\terr norm: -0.000437\n",
      "\tc-3: c: 1.636\tc0: 1.735\terr: -0.099287\terr norm: -0.057224\n",
      "\tc-4: c: 1.509\tc0: 1.841\terr: -0.331875\terr norm: -0.180244\n"
     ]
    }
   ],
   "source": [
    "n_covs = 5  #100\n",
    "#MM = np.arange(300, 1501, 100)\n",
    "MM = [100, 300]\n",
    "K = 3\n",
    "iters = 10\n",
    "\n",
    "GS = [\n",
    "    lambda a, b : cp.sum(a)/b,\n",
    "    lambda a, b : cp.sum(a**2)/b,\n",
    "    lambda a, b : cp.sum(cp.exp(-a))/b,\n",
    "    lambda a, b : cp.sum(cp.sqrt(a))/b,\n",
    "    lambda a, b : cp.sum((.5*a-.75)**2)/b,\n",
    "]\n",
    "BOUNDS = [\n",
    "    lambda lamd, lamd_t, b : -2/b*lamd_t.T@lamd,\n",
    "    lambda lamd, lamd_t, b : 1/b*cp.exp(-lamd_t).T@lamd,\n",
    "    lambda lamd, lamd_t, b : cp.sum(lamd/cp.sqrt(lamd_t))/(2*b),\n",
    "    lambda lamd, lamd_t, b: 1/b*(0.75-.5*lamd_t).T@lamd,\n",
    "]\n",
    "\n",
    "# deltas = [.04, .27, .003, .02, 0.05]\n",
    "deltas = [.4, 2.5, .003, .2, .5]\n",
    "cs, err_cs = utils.compute_cs(GS, lambdas0, lambdas, verbose=True)\n",
    "\n",
    "models = [\n",
    "    # {'name': 'Unc', 'gs': [], 'bounds': [], 'cs': [], 'fmt': '1-',\n",
    "    #  'regs': {'alpha': .01, 'beta': 1.75, 'gamma': 0, 'deltas': []}},\n",
    "   \n",
    "    {'St': True, 'name': 'Tr', 'gs': GS[0], 'bounds': [], 'cs': cs[0], 'fmt': '2-',\n",
    "     'regs': {'alpha': 0, 'beta': 1, 'gamma': 0, 'eta': 1, 'inc_eta': 1.1,\n",
    "              'deltas': deltas[0]}},\n",
    "\n",
    "    # {'name': 'Sq', 'gs': GS[1], 'bounds': BOUNDS[0], 'cs': cs[1], 'fmt': 'o-',\n",
    "    #  'regs': {'alpha': .0, 'beta': 1.25, 'gamma': 1000, 'deltas': deltas[1]}},\n",
    "\n",
    "    # {'name': 'Heat', 'gs': GS[2], 'bounds': BOUNDS[1], 'cs': cs[2], 'fmt': 'x-',\n",
    "    #  'regs': {'alpha': .001, 'beta': .4, 'gamma': 100, 'deltas': deltas[2]}},\n",
    "\n",
    "    # {'name': 'Sqrt', 'gs': GS[3], 'bounds': BOUNDS[2], 'cs': cs[3], 'fmt': 'v-',\n",
    "    #  'regs': {'alpha': .01, 'beta': .5, 'gamma': 25, 'deltas': deltas[3]}},\n",
    "\n",
    "    {'St': True, 'name': 'BR', 'gs': GS[4], 'bounds': BOUNDS[3], 'cs': cs[4], 'fmt': 's-',\n",
    "     'regs': {'alpha': 0, 'beta': 1, 'gamma': 5000, 'eta': 1, 'inc_eta': 1.1, \n",
    "              'deltas': deltas[4]}},\n",
    "\n",
    "    # Non-st\n",
    "    {'St': False, 'name': 'Tr', 'gs': GS[0], 'bounds': [], 'cs': cs[0], 'fmt': '2--',\n",
    "     'regs': {'alpha': 0, 'beta': 1, 'gamma': 0, 'eta': 1, 'inc_eta': 1.1,\n",
    "              'deltas': deltas[0]}},\n",
    "\n",
    "    {'St': False, 'name': 'BR', 'gs': GS[4], 'bounds': BOUNDS[3], 'cs': cs[4], 'fmt': 's--',\n",
    "     'regs': {'alpha': 0, 'beta': 1, 'gamma': 5000, 'eta': 1, 'inc_eta': 1.1, \n",
    "              'deltas': deltas[4]}},\n",
    "]"
   ]
  },
  {
   "cell_type": "code",
   "execution_count": 5,
   "metadata": {
    "scrolled": true
   },
   "outputs": [
    {
     "name": "stdout",
     "output_type": "stream",
     "text": [
      "N_CPUS: 8\n"
     ]
    },
    {
     "ename": "UnboundLocalError",
     "evalue": "local variable 'Theta' referenced before assignment",
     "output_type": "error",
     "traceback": [
      "\u001b[1;31m---------------------------------------------------------------------------\u001b[0m",
      "\u001b[1;31m_RemoteTraceback\u001b[0m                          Traceback (most recent call last)",
      "\u001b[1;31m_RemoteTraceback\u001b[0m: \n\"\"\"\nTraceback (most recent call last):\n  File \"c:\\Users\\samuel.rey.escudero\\Anaconda3\\envs\\gsp_env\\lib\\site-packages\\joblib\\externals\\loky\\process_executor.py\", line 431, in _process_worker\n    r = call_item()\n  File \"c:\\Users\\samuel.rey.escudero\\Anaconda3\\envs\\gsp_env\\lib\\site-packages\\joblib\\externals\\loky\\process_executor.py\", line 285, in __call__\n    return self.fn(*self.args, **self.kwargs)\n  File \"c:\\Users\\samuel.rey.escudero\\Anaconda3\\envs\\gsp_env\\lib\\site-packages\\joblib\\_parallel_backends.py\", line 595, in __call__\n    return self.func(*args, **kwargs)\n  File \"c:\\Users\\samuel.rey.escudero\\Anaconda3\\envs\\gsp_env\\lib\\site-packages\\joblib\\parallel.py\", line 252, in __call__\n    return [func(*args, **kwargs)\n  File \"c:\\Users\\samuel.rey.escudero\\Anaconda3\\envs\\gsp_env\\lib\\site-packages\\joblib\\parallel.py\", line 252, in <listcomp>\n    return [func(*args, **kwargs)\n  File \"<ipython-input-2-3a420f4588ef>\", line 20, in est_graph\n  File \"./src\\spectral_nti.py\", line 223, in MGL_Stationary_GMRF\n    Theta, _ = step1_GMRF_st(C, L, prev_Theta, regs['eta'])\n  File \"./src\\spectral_nti.py\", line 129, in step1_GMRF_st\n    return Theta, prob.status\nUnboundLocalError: local variable 'Theta' referenced before assignment\n\"\"\"",
      "\nThe above exception was the direct cause of the following exception:\n",
      "\u001b[1;31mUnboundLocalError\u001b[0m                         Traceback (most recent call last)",
      "\u001b[1;32m<ipython-input-5-917a0b74424f>\u001b[0m in \u001b[0;36m<module>\u001b[1;34m\u001b[0m\n\u001b[0;32m      8\u001b[0m \u001b[0mprint\u001b[0m\u001b[1;33m(\u001b[0m\u001b[1;34m'N_CPUS:'\u001b[0m\u001b[1;33m,\u001b[0m \u001b[0mN_CPUS\u001b[0m\u001b[1;33m)\u001b[0m\u001b[1;33m\u001b[0m\u001b[1;33m\u001b[0m\u001b[0m\n\u001b[0;32m      9\u001b[0m \u001b[0mpool\u001b[0m \u001b[1;33m=\u001b[0m \u001b[0mParallel\u001b[0m\u001b[1;33m(\u001b[0m\u001b[0mn_jobs\u001b[0m\u001b[1;33m=\u001b[0m\u001b[0mN_CPUS\u001b[0m\u001b[1;33m,\u001b[0m \u001b[0mverbose\u001b[0m\u001b[1;33m=\u001b[0m\u001b[1;36m0\u001b[0m\u001b[1;33m)\u001b[0m\u001b[1;33m\u001b[0m\u001b[1;33m\u001b[0m\u001b[0m\n\u001b[1;32m---> 10\u001b[1;33m \u001b[0mresps\u001b[0m \u001b[1;33m=\u001b[0m \u001b[0mpool\u001b[0m\u001b[1;33m(\u001b[0m\u001b[0mdelayed\u001b[0m\u001b[1;33m(\u001b[0m\u001b[0mest_graph\u001b[0m\u001b[1;33m)\u001b[0m\u001b[1;33m(\u001b[0m\u001b[0mi\u001b[0m\u001b[1;33m,\u001b[0m \u001b[0mmodels\u001b[0m\u001b[1;33m,\u001b[0m \u001b[0mMM\u001b[0m\u001b[1;33m,\u001b[0m \u001b[0mL\u001b[0m\u001b[1;33m,\u001b[0m \u001b[0mK\u001b[0m\u001b[1;33m,\u001b[0m \u001b[0miters\u001b[0m\u001b[1;33m,\u001b[0m \u001b[0mverbose\u001b[0m\u001b[1;33m)\u001b[0m \u001b[1;32mfor\u001b[0m \u001b[0mi\u001b[0m \u001b[1;32min\u001b[0m \u001b[0mrange\u001b[0m\u001b[1;33m(\u001b[0m\u001b[0mn_covs\u001b[0m\u001b[1;33m)\u001b[0m\u001b[1;33m)\u001b[0m\u001b[1;33m\u001b[0m\u001b[1;33m\u001b[0m\u001b[0m\n\u001b[0m\u001b[0;32m     11\u001b[0m \u001b[1;32mfor\u001b[0m \u001b[0mi\u001b[0m\u001b[1;33m,\u001b[0m \u001b[0mresp\u001b[0m \u001b[1;32min\u001b[0m \u001b[0menumerate\u001b[0m\u001b[1;33m(\u001b[0m\u001b[0mresps\u001b[0m\u001b[1;33m)\u001b[0m\u001b[1;33m:\u001b[0m\u001b[1;33m\u001b[0m\u001b[1;33m\u001b[0m\u001b[0m\n\u001b[0;32m     12\u001b[0m     \u001b[0mAs_hat\u001b[0m\u001b[1;33m[\u001b[0m\u001b[1;33m:\u001b[0m\u001b[1;33m,\u001b[0m\u001b[1;33m:\u001b[0m\u001b[1;33m,\u001b[0m\u001b[1;33m:\u001b[0m\u001b[1;33m,\u001b[0m\u001b[1;33m:\u001b[0m\u001b[1;33m,\u001b[0m\u001b[0mi\u001b[0m\u001b[1;33m]\u001b[0m\u001b[1;33m,\u001b[0m \u001b[0mlamds_hat\u001b[0m\u001b[1;33m[\u001b[0m\u001b[1;33m:\u001b[0m\u001b[1;33m,\u001b[0m\u001b[1;33m:\u001b[0m\u001b[1;33m,\u001b[0m\u001b[1;33m:\u001b[0m\u001b[1;33m,\u001b[0m\u001b[0mi\u001b[0m\u001b[1;33m]\u001b[0m \u001b[1;33m=\u001b[0m \u001b[0mresp\u001b[0m\u001b[1;33m\u001b[0m\u001b[1;33m\u001b[0m\u001b[0m\n",
      "\u001b[1;32mc:\\Users\\samuel.rey.escudero\\Anaconda3\\envs\\gsp_env\\lib\\site-packages\\joblib\\parallel.py\u001b[0m in \u001b[0;36m__call__\u001b[1;34m(self, iterable)\u001b[0m\n\u001b[0;32m   1040\u001b[0m \u001b[1;33m\u001b[0m\u001b[0m\n\u001b[0;32m   1041\u001b[0m             \u001b[1;32mwith\u001b[0m \u001b[0mself\u001b[0m\u001b[1;33m.\u001b[0m\u001b[0m_backend\u001b[0m\u001b[1;33m.\u001b[0m\u001b[0mretrieval_context\u001b[0m\u001b[1;33m(\u001b[0m\u001b[1;33m)\u001b[0m\u001b[1;33m:\u001b[0m\u001b[1;33m\u001b[0m\u001b[1;33m\u001b[0m\u001b[0m\n\u001b[1;32m-> 1042\u001b[1;33m                 \u001b[0mself\u001b[0m\u001b[1;33m.\u001b[0m\u001b[0mretrieve\u001b[0m\u001b[1;33m(\u001b[0m\u001b[1;33m)\u001b[0m\u001b[1;33m\u001b[0m\u001b[1;33m\u001b[0m\u001b[0m\n\u001b[0m\u001b[0;32m   1043\u001b[0m             \u001b[1;31m# Make sure that we get a last message telling us we are done\u001b[0m\u001b[1;33m\u001b[0m\u001b[1;33m\u001b[0m\u001b[1;33m\u001b[0m\u001b[0m\n\u001b[0;32m   1044\u001b[0m             \u001b[0melapsed_time\u001b[0m \u001b[1;33m=\u001b[0m \u001b[0mtime\u001b[0m\u001b[1;33m.\u001b[0m\u001b[0mtime\u001b[0m\u001b[1;33m(\u001b[0m\u001b[1;33m)\u001b[0m \u001b[1;33m-\u001b[0m \u001b[0mself\u001b[0m\u001b[1;33m.\u001b[0m\u001b[0m_start_time\u001b[0m\u001b[1;33m\u001b[0m\u001b[1;33m\u001b[0m\u001b[0m\n",
      "\u001b[1;32mc:\\Users\\samuel.rey.escudero\\Anaconda3\\envs\\gsp_env\\lib\\site-packages\\joblib\\parallel.py\u001b[0m in \u001b[0;36mretrieve\u001b[1;34m(self)\u001b[0m\n\u001b[0;32m    919\u001b[0m             \u001b[1;32mtry\u001b[0m\u001b[1;33m:\u001b[0m\u001b[1;33m\u001b[0m\u001b[1;33m\u001b[0m\u001b[0m\n\u001b[0;32m    920\u001b[0m                 \u001b[1;32mif\u001b[0m \u001b[0mgetattr\u001b[0m\u001b[1;33m(\u001b[0m\u001b[0mself\u001b[0m\u001b[1;33m.\u001b[0m\u001b[0m_backend\u001b[0m\u001b[1;33m,\u001b[0m \u001b[1;34m'supports_timeout'\u001b[0m\u001b[1;33m,\u001b[0m \u001b[1;32mFalse\u001b[0m\u001b[1;33m)\u001b[0m\u001b[1;33m:\u001b[0m\u001b[1;33m\u001b[0m\u001b[1;33m\u001b[0m\u001b[0m\n\u001b[1;32m--> 921\u001b[1;33m                     \u001b[0mself\u001b[0m\u001b[1;33m.\u001b[0m\u001b[0m_output\u001b[0m\u001b[1;33m.\u001b[0m\u001b[0mextend\u001b[0m\u001b[1;33m(\u001b[0m\u001b[0mjob\u001b[0m\u001b[1;33m.\u001b[0m\u001b[0mget\u001b[0m\u001b[1;33m(\u001b[0m\u001b[0mtimeout\u001b[0m\u001b[1;33m=\u001b[0m\u001b[0mself\u001b[0m\u001b[1;33m.\u001b[0m\u001b[0mtimeout\u001b[0m\u001b[1;33m)\u001b[0m\u001b[1;33m)\u001b[0m\u001b[1;33m\u001b[0m\u001b[1;33m\u001b[0m\u001b[0m\n\u001b[0m\u001b[0;32m    922\u001b[0m                 \u001b[1;32melse\u001b[0m\u001b[1;33m:\u001b[0m\u001b[1;33m\u001b[0m\u001b[1;33m\u001b[0m\u001b[0m\n\u001b[0;32m    923\u001b[0m                     \u001b[0mself\u001b[0m\u001b[1;33m.\u001b[0m\u001b[0m_output\u001b[0m\u001b[1;33m.\u001b[0m\u001b[0mextend\u001b[0m\u001b[1;33m(\u001b[0m\u001b[0mjob\u001b[0m\u001b[1;33m.\u001b[0m\u001b[0mget\u001b[0m\u001b[1;33m(\u001b[0m\u001b[1;33m)\u001b[0m\u001b[1;33m)\u001b[0m\u001b[1;33m\u001b[0m\u001b[1;33m\u001b[0m\u001b[0m\n",
      "\u001b[1;32mc:\\Users\\samuel.rey.escudero\\Anaconda3\\envs\\gsp_env\\lib\\site-packages\\joblib\\_parallel_backends.py\u001b[0m in \u001b[0;36mwrap_future_result\u001b[1;34m(future, timeout)\u001b[0m\n\u001b[0;32m    540\u001b[0m         AsyncResults.get from multiprocessing.\"\"\"\n\u001b[0;32m    541\u001b[0m         \u001b[1;32mtry\u001b[0m\u001b[1;33m:\u001b[0m\u001b[1;33m\u001b[0m\u001b[1;33m\u001b[0m\u001b[0m\n\u001b[1;32m--> 542\u001b[1;33m             \u001b[1;32mreturn\u001b[0m \u001b[0mfuture\u001b[0m\u001b[1;33m.\u001b[0m\u001b[0mresult\u001b[0m\u001b[1;33m(\u001b[0m\u001b[0mtimeout\u001b[0m\u001b[1;33m=\u001b[0m\u001b[0mtimeout\u001b[0m\u001b[1;33m)\u001b[0m\u001b[1;33m\u001b[0m\u001b[1;33m\u001b[0m\u001b[0m\n\u001b[0m\u001b[0;32m    543\u001b[0m         \u001b[1;32mexcept\u001b[0m \u001b[0mCfTimeoutError\u001b[0m \u001b[1;32mas\u001b[0m \u001b[0me\u001b[0m\u001b[1;33m:\u001b[0m\u001b[1;33m\u001b[0m\u001b[1;33m\u001b[0m\u001b[0m\n\u001b[0;32m    544\u001b[0m             \u001b[1;32mraise\u001b[0m \u001b[0mTimeoutError\u001b[0m \u001b[1;32mfrom\u001b[0m \u001b[0me\u001b[0m\u001b[1;33m\u001b[0m\u001b[1;33m\u001b[0m\u001b[0m\n",
      "\u001b[1;32mc:\\Users\\samuel.rey.escudero\\Anaconda3\\envs\\gsp_env\\lib\\concurrent\\futures\\_base.py\u001b[0m in \u001b[0;36mresult\u001b[1;34m(self, timeout)\u001b[0m\n\u001b[0;32m    437\u001b[0m                 \u001b[1;32mraise\u001b[0m \u001b[0mCancelledError\u001b[0m\u001b[1;33m(\u001b[0m\u001b[1;33m)\u001b[0m\u001b[1;33m\u001b[0m\u001b[1;33m\u001b[0m\u001b[0m\n\u001b[0;32m    438\u001b[0m             \u001b[1;32melif\u001b[0m \u001b[0mself\u001b[0m\u001b[1;33m.\u001b[0m\u001b[0m_state\u001b[0m \u001b[1;33m==\u001b[0m \u001b[0mFINISHED\u001b[0m\u001b[1;33m:\u001b[0m\u001b[1;33m\u001b[0m\u001b[1;33m\u001b[0m\u001b[0m\n\u001b[1;32m--> 439\u001b[1;33m                 \u001b[1;32mreturn\u001b[0m \u001b[0mself\u001b[0m\u001b[1;33m.\u001b[0m\u001b[0m__get_result\u001b[0m\u001b[1;33m(\u001b[0m\u001b[1;33m)\u001b[0m\u001b[1;33m\u001b[0m\u001b[1;33m\u001b[0m\u001b[0m\n\u001b[0m\u001b[0;32m    440\u001b[0m             \u001b[1;32melse\u001b[0m\u001b[1;33m:\u001b[0m\u001b[1;33m\u001b[0m\u001b[1;33m\u001b[0m\u001b[0m\n\u001b[0;32m    441\u001b[0m                 \u001b[1;32mraise\u001b[0m \u001b[0mTimeoutError\u001b[0m\u001b[1;33m(\u001b[0m\u001b[1;33m)\u001b[0m\u001b[1;33m\u001b[0m\u001b[1;33m\u001b[0m\u001b[0m\n",
      "\u001b[1;32mc:\\Users\\samuel.rey.escudero\\Anaconda3\\envs\\gsp_env\\lib\\concurrent\\futures\\_base.py\u001b[0m in \u001b[0;36m__get_result\u001b[1;34m(self)\u001b[0m\n\u001b[0;32m    386\u001b[0m     \u001b[1;32mdef\u001b[0m \u001b[0m__get_result\u001b[0m\u001b[1;33m(\u001b[0m\u001b[0mself\u001b[0m\u001b[1;33m)\u001b[0m\u001b[1;33m:\u001b[0m\u001b[1;33m\u001b[0m\u001b[1;33m\u001b[0m\u001b[0m\n\u001b[0;32m    387\u001b[0m         \u001b[1;32mif\u001b[0m \u001b[0mself\u001b[0m\u001b[1;33m.\u001b[0m\u001b[0m_exception\u001b[0m\u001b[1;33m:\u001b[0m\u001b[1;33m\u001b[0m\u001b[1;33m\u001b[0m\u001b[0m\n\u001b[1;32m--> 388\u001b[1;33m             \u001b[1;32mraise\u001b[0m \u001b[0mself\u001b[0m\u001b[1;33m.\u001b[0m\u001b[0m_exception\u001b[0m\u001b[1;33m\u001b[0m\u001b[1;33m\u001b[0m\u001b[0m\n\u001b[0m\u001b[0;32m    389\u001b[0m         \u001b[1;32melse\u001b[0m\u001b[1;33m:\u001b[0m\u001b[1;33m\u001b[0m\u001b[1;33m\u001b[0m\u001b[0m\n\u001b[0;32m    390\u001b[0m             \u001b[1;32mreturn\u001b[0m \u001b[0mself\u001b[0m\u001b[1;33m.\u001b[0m\u001b[0m_result\u001b[0m\u001b[1;33m\u001b[0m\u001b[1;33m\u001b[0m\u001b[0m\n",
      "\u001b[1;31mUnboundLocalError\u001b[0m: local variable 'Theta' referenced before assignment"
     ]
    }
   ],
   "source": [
    "# Estimate graph\n",
    "verbose = False\n",
    "\n",
    "total_t = time.time()\n",
    "As_hat = np.zeros((N, N, len(models), len(MM), n_covs))\n",
    "lamds_hat = np.zeros((N, len(models), len(MM), n_covs)) \n",
    "\n",
    "print('N_CPUS:', N_CPUS)\n",
    "pool = Parallel(n_jobs=N_CPUS, verbose=0)\n",
    "resps = pool(delayed(est_graph)(i, models, MM, L, K, iters, verbose) for i in range(n_covs))\n",
    "for i, resp in enumerate(resps):\n",
    "    As_hat[:,:,:,:,i], lamds_hat[:,:,:,i] = resp\n",
    "\n",
    "total_t = time.time() - total_t\n",
    "print('-----', total_t/60, ' mins -----')"
   ]
  },
  {
   "cell_type": "code",
   "execution_count": null,
   "metadata": {},
   "outputs": [
    {
     "data": {
      "image/png": "[encoded data removed]",
      "text/plain": [
       "<Figure size 432x288 with 1 Axes>"
      ]
     },
     "metadata": {
      "needs_background": "light"
     },
     "output_type": "display_data"
    },
    {
     "data": {
      "image/png": "[encoded data removed]",
      "text/plain": [
       "<Figure size 432x288 with 1 Axes>"
      ]
     },
     "metadata": {
      "needs_background": "light"
     },
     "output_type": "display_data"
    }
   ],
   "source": [
    "# err_lamb = est_err(lamds_hat, lambdas)\n",
    "\n",
    "err_A, err_lamd = est_errs(A, lambdas, As_hat, lamds_hat, sq_err=True)\n",
    "\n",
    "mean_err_lam = np.mean(err_lamd, 2)\n",
    "plot_err(MM, models, mean_err_lam, 'Mean err(Lambda,Lambda*)')\n",
    "\n",
    "mean_err_A = np.mean(err_A, 2)\n",
    "plot_err(MM, models, mean_err_A, 'Mean err(A,A*)')"
   ]
  },
  {
   "cell_type": "code",
   "execution_count": null,
   "metadata": {},
   "outputs": [],
   "source": [
    "# Save np data\n",
    "# models_aux = [{'name': model['name'], 'fmt': model['fmt'], 'regs': model['regs']}\n",
    "#                 for model in models]\n",
    "# data = {\n",
    "#     'A': A,\n",
    "#     'lambdas': lambdas,\n",
    "#     'lambdas0': lambdas0,\n",
    "#     'As_hat': As_hat,\n",
    "#     'lamds_hat': lamds_hat,\n",
    "#     'MM': MM,\n",
    "#     'models': models_aux\n",
    "# }\n",
    "# file = 'constraints_{}covs_{}iters'.format(n_covs, iters)\n",
    "# np.save('results/constraints/' + file, data)\n",
    "\n",
    "# # Save spectrum\n",
    "# N = 200\n",
    "# N0 = 150\n",
    "\n",
    "# models_hist = [{'name': 'True spectrum'}] + models\n",
    "\n",
    "# all_lambdas = np.concatenate((lambdas.reshape([N, 1]),\n",
    "#                               np.squeeze(lamds_hat[:,:,idx,0])), axis=1)\n",
    "\n",
    "# fname = PATH + 'constraints_hists.csv'\n",
    "# utils.error_to_csv(fname, models_hist, [], all_lambdas)\n",
    "\n",
    "# fname = PATH + 'constraints_hists_ref.csv'\n",
    "# models_hist_ref = [{'name': 'Ref spectrum'}]\n",
    "# utils.error_to_csv(fname, models_hist_ref, [], lambdas0.reshape([N0, 1]))"
   ]
  },
  {
   "cell_type": "code",
   "execution_count": null,
   "metadata": {},
   "outputs": [],
   "source": [
    "# Save data as csv\n",
    "# fname = PATH + 'constraints.csv'\n",
    "# utils.error_to_csv(fname, models, MM, mean_err_lam)\n"
   ]
  },
  {
   "cell_type": "code",
   "execution_count": null,
   "metadata": {},
   "outputs": [],
   "source": [
    "# %matplotlib qt\n",
    "\n",
    "# # Load data\n",
    "# file = 'results/constraints/constraints_100covs_200iters.npy'\n",
    "# data = np.load(file, allow_pickle=True).item()\n",
    "# models = data['models']\n",
    "\n",
    "# A = data['A']\n",
    "# lambdas = data['lambdas']\n",
    "# lambdas0 = data['lambdas0']\n",
    "# As_hat = data['As_hat']\n",
    "# lamds_hat = data['lamds_hat']\n",
    "# MM = data['MM']\n",
    "# models = data['models']"
   ]
  }
 ],
 "metadata": {
  "kernelspec": {
   "display_name": "Python 3.9.12 ('base')",
   "language": "python",
   "name": "python3"
  },
  "language_info": {
   "codemirror_mode": {
    "name": "ipython",
    "version": 3
   },
   "file_extension": ".py",
   "mimetype": "text/x-python",
   "name": "python",
   "nbconvert_exporter": "python",
   "pygments_lexer": "ipython3",
   "version": "3.8.3"
  },
  "vscode": {
   "interpreter": {
    "hash": "cb9217bf5acef914b45d719efd7a09638e51312250aef16a5d9d56ac442664fb"
   }
  }
 },
 "nbformat": 4,
 "nbformat_minor": 4
}
