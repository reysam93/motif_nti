{
 "cells": [
  {
   "cell_type": "markdown",
   "metadata": {},
   "source": [
    "Plot the spectrum of the estimated graphs for different types of constraints."
   ]
  },
  {
   "cell_type": "code",
   "execution_count": 1,
   "metadata": {},
   "outputs": [],
   "source": [
    "import cvxpy as cp\n",
    "import networkx as nx\n",
    "import numpy as np\n",
    "import matplotlib.pyplot as plt\n",
    "\n",
    "import time\n",
    "\n",
    "import utils\n",
    "import spectral_nti as snti\n",
    "\n",
    "%matplotlib qt\n",
    "\n",
    "SEED = 0\n",
    "np.random.seed(SEED)"
   ]
  },
  {
   "cell_type": "code",
   "execution_count": 14,
   "metadata": {},
   "outputs": [],
   "source": [
    "def est_graphs(models, C_hat):\n",
    "    N = C_hat.shape[0]\n",
    "    A_hat = np.zeros((N, N, len(models)))\n",
    "    lamd_hat = np.zeros((N,len(models)))\n",
    "\n",
    "    for j, model in enumerate(models):\n",
    "        t = time.time()\n",
    "        L_hat, _ = \\\n",
    "            snti.MGL(C_hat, model['gs'], model['bounds'],\n",
    "                        model['cs'], model['regs'], max_iters=iters)\n",
    "            \n",
    "        A_hat[:,:,j] = np.diag(np.diag(L_hat)) - L_hat\n",
    "        lamd_hat[:,j], _ = np.linalg.eigh(L_hat)\n",
    "        t = time.time() - t\n",
    "        print('Model: {} - Time(sec): {:.3}'.format(model['name'], t))\n",
    "    return A_hat, lamd_hat\n",
    "\n",
    "\n",
    "def print_err(models, A, As_hat):\n",
    "    L = np.diag(np.sum(A,0)) - A\n",
    "    norm_A = np.linalg.norm(A,'fro')\n",
    "    norm_L = np.linalg.norm(L,'fro')\n",
    "\n",
    "    for j, model in enumerate(models):\n",
    "        L_hat = np.diag(np.sum(As_hat[:,:,j],0)) - As_hat[:,:,j]\n",
    "        errA = np.linalg.norm(A-As_hat[:,:,j],'fro')**2/norm_A**2\n",
    "        errL = np.linalg.norm(L-L_hat,'fro')**2/norm_L**2\n",
    "\n",
    "        print('{}:\\tErr A: {:.4f} - Err L: {:.4f}'\n",
    "              .format(model['name'], errA, errL))\n",
    "\n",
    "\n",
    "def print_err2(models, A, As_hat):\n",
    "    L = np.diag(np.sum(A,0)) - A\n",
    "    norm_A = np.linalg.norm(A, 'fro')\n",
    "    norm_L = np.linalg.norm(L, 'fro')\n",
    "\n",
    "    for j, model in enumerate(models):\n",
    "        L_hat = np.diag(np.sum(As_hat[:,:,j],0)) - As_hat[:,:,j]\n",
    "        L_hat /= np.linalg.norm(L_hat, 'fro')\n",
    "        A_hat = As_hat[:,:,j]/np.linalg.norm(As_hat[:,:,j], 'fro')\n",
    "        errA = np.linalg.norm(A/norm_A-A_hat,'fro')**2\n",
    "        errL = np.linalg.norm(L/norm_L-L_hat,'fro')**2\n",
    "\n",
    "        print('{}:\\tErr2 A: {:.4f} - Err2 L: {:.4f}'\n",
    "              .format(model['name'], errA, errL))\n",
    "\n",
    "\n",
    "def plot_graphs(models, A, As_hat):\n",
    "    plt.figure()\n",
    "    plt.imshow(A)\n",
    "    plt.title('Original A')\n",
    "    plt.colorbar()\n",
    "\n",
    "    for i,model in enumerate(models):\n",
    "        plt.figure()\n",
    "        plt.imshow(As_hat[:,:,i])\n",
    "        plt.title(model['name'])\n",
    "        plt.colorbar()\n",
    "  \n",
    "\n",
    "def plot_spectrum(models, lambdas, lambdas0, lamds_hat, M):\n",
    "    n_bins = np.arange(0,np.amax(lamds_hat)+1,1)\n",
    "\n",
    "    fig, axs = plt.subplots(2, 4, sharey=True, constrained_layout=True)\n",
    "    axs[0,0].hist(lambdas, density=True, bins=n_bins)\n",
    "    axs[0,0].set_title('True spectrum')\n",
    "    axs[1,0].hist(lambdas0, density=True, bins=n_bins)\n",
    "    axs[1,0].set_title('Ref spectrum')\n",
    "    axs[0,1].hist(lamds_hat[:,0], density=True, bins=n_bins)\n",
    "    axs[0,1].set_title(models[0]['name'])\n",
    "    axs[0,2].hist(lamds_hat[:,3], density=True, bins=n_bins)\n",
    "    axs[0,2].set_title(models[3]['name'])\n",
    "    axs[0,3].hist(lamds_hat[:,4], density=True, bins=n_bins)\n",
    "    axs[0,3].set_title(models[4]['name'])\n",
    "    axs[1,1].hist(lamds_hat[:,1], density=True, bins=n_bins)\n",
    "    axs[1,1].set_title(models[1]['name'])\n",
    "    axs[1,2].hist(lamds_hat[:,2], density=True, bins=n_bins)\n",
    "    axs[1,2].set_title(models[2]['name'])\n",
    "    axs[1,3].hist(lamds_hat[:,5], density=True, bins=n_bins)\n",
    "    axs[1,3].set_title(models[5]['name'])\n",
    "    fig.suptitle('M=' + str(M))\n"
   ]
  },
  {
   "cell_type": "markdown",
   "metadata": {},
   "source": [
    "## Create grid graphs"
   ]
  },
  {
   "cell_type": "code",
   "execution_count": 3,
   "metadata": {},
   "outputs": [],
   "source": [
    "# Ref grap - 150 nodes\n",
    "n01 = 15\n",
    "n02 = 10\n",
    "N0 = n01*n02\n",
    "A0 = nx.to_numpy_array(nx.grid_2d_graph(n01, n02))\n",
    "L0 = np.diag(np.sum(A0, 0)) - A0\n",
    "lambdas0, _ = np.linalg.eigh(L0)\n",
    "\n",
    "# Target graph - 200 nodes\n",
    "n1 = 20\n",
    "n2 = 10\n",
    "N = n1*n2\n",
    "A = nx.to_numpy_array(nx.grid_2d_graph(n1, n2))\n",
    "L = np.diag(np.sum(A, 0)) - A\n",
    "lambdas, V = np.linalg.eigh(L)\n",
    "A_norm = np.linalg.norm(A,'fro')**2\n",
    "lambdas_norm = np.linalg.norm(lambdas)**2\n",
    "\n",
    "norm_A = np.linalg.norm(A,'fro')\n",
    "norm_lamb = np.linalg.norm(lambdas)"
   ]
  },
  {
   "cell_type": "markdown",
   "metadata": {},
   "source": [
    "Note: Although graph images are shown in different colors I have checked that they are both binary graphs. Must be an error of the library."
   ]
  },
  {
   "cell_type": "markdown",
   "metadata": {},
   "source": [
    "## Models"
   ]
  },
  {
   "cell_type": "code",
   "execution_count": 4,
   "metadata": {},
   "outputs": [
    {
     "name": "stdout",
     "output_type": "stream",
     "text": [
      "\tc-0: c: 3.700\tc0: 3.667\terr: 0.033333\terr norm: 0.009091\n",
      "\tc-1: c: 17.640\tc0: 17.387\terr: 0.253333\terr norm: 0.014571\n",
      "\tc-2: c: 0.114\tc0: 0.115\terr: -0.001259\terr norm: -0.010911\n",
      "\tc-3: c: 1.828\tc0: 1.817\terr: 0.010217\terr norm: 0.005622\n",
      "\tc-4: c: 1.635\tc0: 1.597\terr: 0.038333\terr norm: 0.024008\n"
     ]
    }
   ],
   "source": [
    "iters = 200\n",
    "\n",
    "GS = [\n",
    "    lambda a, b : cp.sum(a)/b,    # delta: 4e-2\n",
    "    lambda a, b : cp.sum(a**2)/b,  # delta: .7\n",
    "    lambda a, b : cp.sum(cp.exp(-a))/b,    # delta: 3e-3\n",
    "    lambda a, b : cp.sum(cp.sqrt(a))/b,  # delta: 2e-2\n",
    "    lambda a, b : cp.sum(.25*a**2-.75*a)/b,\n",
    "]\n",
    "BOUNDS = [\n",
    "    lambda lamd, lamd_t, b : -2/b*lamd_t.T@lamd,\n",
    "    lambda lamd, lamd_t, b : 1/b*cp.exp(-lamd_t).T@lamd,\n",
    "    lambda lamd, lamd_t, b : cp.sum(lamd/cp.sqrt(lamd_t))/(2*b),\n",
    "    lambda lamd, lamd_t, b: 1/b*(0.75-2*0.25*lamd_t).T@lamd,\n",
    "]\n",
    "\n",
    "deltas = [.04, .27, .003, .02, 0.05]\n",
    "cs = utils.compute_cs(GS, lambdas0, lambdas)\n",
    "\n",
    "models = [\n",
    "    {'name': 'Unc', 'gs': [], 'bounds': [], 'cs': [], 'fmt': '1-',\n",
    "     'regs': {'alpha': .01, 'beta': 1.75, 'gamma': 0, 'deltas': 0}},\n",
    "    \n",
    "    {'name': 'Tr', 'gs': GS[0], 'bounds': [], 'cs': cs[0], 'fmt': '2-',\n",
    "     'regs': {'alpha': 0, 'beta': 1, 'gamma': 0, 'deltas': deltas[0]}},\n",
    "\n",
    "    {'name': 'Sq', 'gs': GS[1], 'bounds': BOUNDS[0], 'cs': cs[1], 'fmt': 'o-',\n",
    "     'regs': {'alpha': .0, 'beta': 1.25, 'gamma': 1000, 'deltas': deltas[1]}},\n",
    "\n",
    "    {'name': 'Heat', 'gs': GS[2], 'bounds': BOUNDS[1], 'cs': cs[2], 'fmt': 'x-',\n",
    "     'regs': {'alpha': .001, 'beta': .4, 'gamma': 100, 'deltas': deltas[2]}},\n",
    "    \n",
    "    {'name': 'Sqrt', 'gs': GS[3], 'bounds': BOUNDS[2], 'cs': cs[3], 'fmt': 'v-',\n",
    "     'regs': {'alpha': .01, 'beta': .5, 'gamma': 25, 'deltas': deltas[3]}},\n",
    "\n",
    "    {'name': 'Poly', 'gs': GS[4], 'bounds': BOUNDS[3], 'cs': cs[4], 'fmt': 's-',\n",
    "     'regs': {'alpha': 0, 'beta': 1, 'gamma': 1000, 'deltas': deltas[4]}},\n",
    "]"
   ]
  },
  {
   "cell_type": "markdown",
   "metadata": {},
   "source": [
    "## Estimate graphs"
   ]
  },
  {
   "cell_type": "code",
   "execution_count": 5,
   "metadata": {},
   "outputs": [
    {
     "name": "stdout",
     "output_type": "stream",
     "text": [
      "Model: Unc - Time(sec): 14.6\n"
     ]
    },
    {
     "name": "stderr",
     "output_type": "stream",
     "text": [
      "C:\\Users\\Samuel\\anaconda3\\lib\\site-packages\\cvxpy\\problems\\problem.py:1267: UserWarning: Solution may be inaccurate. Try another solver, adjusting the solver settings, or solve with verbose=True for more information.\n",
      "  warnings.warn(\n"
     ]
    },
    {
     "name": "stdout",
     "output_type": "stream",
     "text": [
      "Model: Tr - Time(sec): 15.9\n",
      "Model: Sq - Time(sec): 17.4\n",
      "Model: Heat - Time(sec): 16.8\n",
      "Model: Sqrt - Time(sec): 17.8\n",
      "Model: Poly - Time(sec): 18.5\n",
      "Model: Unc - Time(sec): 15.0\n",
      "Model: Tr - Time(sec): 16.0\n",
      "Model: Sq - Time(sec): 17.9\n",
      "Model: Heat - Time(sec): 17.3\n",
      "Model: Sqrt - Time(sec): 17.3\n",
      "Model: Poly - Time(sec): 18.1\n",
      "Model: Unc - Time(sec): 14.7\n",
      "Model: Tr - Time(sec): 15.6\n",
      "Model: Sq - Time(sec): 17.9\n",
      "Model: Heat - Time(sec): 17.4\n",
      "Model: Sqrt - Time(sec): 17.5\n",
      "Model: Poly - Time(sec): 17.9\n"
     ]
    }
   ],
   "source": [
    "MM = [500, 750, 1000]\n",
    "\n",
    "lambdas_aux = np.concatenate(([0], 1/np.sqrt(lambdas[1:])))\n",
    "C_inv_sqrt = V@np.diag(lambdas_aux)@V.T\n",
    "X = C_inv_sqrt@np.random.randn(N, MM[-1])\n",
    "\n",
    "As_hat = np.zeros((N, N, len(models), len(MM)))\n",
    "lamds_hat = np.zeros((N, len(models), len(MM)))\n",
    "for i,M in enumerate(MM):\n",
    "    C_hat = X[:,:M]@X[:,:M].T/M\n",
    "\n",
    "    # Estimate graph\n",
    "    total_t = time.time()\n",
    "    As_hat[:,:,:,i], lamds_hat[:,:,i] = est_graphs(models, C_hat)"
   ]
  },
  {
   "cell_type": "code",
   "execution_count": 17,
   "metadata": {},
   "outputs": [
    {
     "name": "stdout",
     "output_type": "stream",
     "text": [
      "M: 500\n",
      "Unc:\tErr2 A: 0.2413 - Err2 L: 0.1038\n",
      "Tr:\tErr2 A: 0.1441 - Err2 L: 0.0637\n",
      "Sq:\tErr2 A: 0.1134 - Err2 L: 0.0420\n",
      "Heat:\tErr2 A: 0.0934 - Err2 L: 0.0403\n",
      "Sqrt:\tErr2 A: 0.0973 - Err2 L: 0.0423\n",
      "Poly:\tErr2 A: 0.1083 - Err2 L: 0.0406\n",
      "[ 0.  1.  2.  3.  4.  5.  6.  7.  8.  9. 10. 11. 12. 13. 14. 15. 16. 17.\n",
      " 18. 19. 20. 21. 22. 23.]\n",
      "M: 750\n",
      "Unc:\tErr2 A: 0.0822 - Err2 L: 0.0404\n",
      "Tr:\tErr2 A: 0.0566 - Err2 L: 0.0256\n",
      "Sq:\tErr2 A: 0.0468 - Err2 L: 0.0183\n",
      "Heat:\tErr2 A: 0.0453 - Err2 L: 0.0203\n",
      "Sqrt:\tErr2 A: 0.0469 - Err2 L: 0.0213\n",
      "Poly:\tErr2 A: 0.0453 - Err2 L: 0.0181\n",
      "[ 0.  1.  2.  3.  4.  5.  6.  7.  8.  9. 10. 11. 12. 13.]\n",
      "M: 1000\n",
      "Unc:\tErr2 A: 0.0444 - Err2 L: 0.0203\n",
      "Tr:\tErr2 A: 0.0344 - Err2 L: 0.0150\n",
      "Sq:\tErr2 A: 0.0290 - Err2 L: 0.0112\n",
      "Heat:\tErr2 A: 0.0309 - Err2 L: 0.0133\n",
      "Sqrt:\tErr2 A: 0.0316 - Err2 L: 0.0137\n",
      "Poly:\tErr2 A: 0.0284 - Err2 L: 0.0111\n",
      "[ 0.  1.  2.  3.  4.  5.  6.  7.  8.  9. 10. 11.]\n"
     ]
    }
   ],
   "source": [
    "for i,M in enumerate(MM):\n",
    "    print('M:', M)\n",
    "    print_err2(models, A, As_hat[:,:,:,i])\n",
    "    plot_spectrum(models, lambdas, lambdas0, lamds_hat[:,:,i], M)\n"
   ]
  }
 ],
 "metadata": {
  "kernelspec": {
   "display_name": "Python 3",
   "language": "python",
   "name": "python3"
  },
  "language_info": {
   "codemirror_mode": {
    "name": "ipython",
    "version": 3
   },
   "file_extension": ".py",
   "mimetype": "text/x-python",
   "name": "python",
   "nbconvert_exporter": "python",
   "pygments_lexer": "ipython3",
   "version": "3.8.3"
  }
 },
 "nbformat": 4,
 "nbformat_minor": 4
}
