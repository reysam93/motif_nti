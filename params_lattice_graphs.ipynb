{
 "cells": [
  {
   "cell_type": "code",
   "execution_count": 1,
   "metadata": {},
   "outputs": [],
   "source": [
    "import cvxpy as cp\n",
    "import networkx as nx\n",
    "import numpy as np\n",
    "import matplotlib.pyplot as plt\n",
    "\n",
    "import time\n",
    "\n",
    "import utils\n",
    "import spectral_nti as snti\n",
    "\n",
    "%matplotlib qt\n",
    "\n",
    "SEED = 0\n",
    "np.random.seed(SEED)"
   ]
  },
  {
   "cell_type": "code",
   "execution_count": 2,
   "metadata": {},
   "outputs": [],
   "source": [
    "def plot_err(err, alphas, betas, gammas, bounds, label='A'):\n",
    "    if len(bounds) == 0:\n",
    "        # Without upper bounds, gamma does not matter\n",
    "        plt.figure()\n",
    "        plt.imshow(err[0,:,:])\n",
    "        plt.colorbar()\n",
    "        plt.xlabel('Alpha')\n",
    "        plt.xticks(np.arange(len(alphas)), alphas)\n",
    "        plt.ylabel('Beta')\n",
    "        plt.yticks(np.arange(len(betas)), betas)\n",
    "        plt.title('Err {}, Gamma: {}'.format(label, gammas[0]))\n",
    "    else:\n",
    "        # With upper bounds, gamma matter\n",
    "        for k, alpha in enumerate(alphas):\n",
    "            plt.figure()\n",
    "            plt.imshow(err[:,:,k])\n",
    "            plt.colorbar()\n",
    "            plt.xlabel('Beta')\n",
    "            plt.xticks(np.arange(len(betas)), betas)\n",
    "            plt.ylabel('Gamma')\n",
    "            plt.yticks(np.arange(len(gammas)), gammas)\n",
    "            plt.title('Err {}, Alpha: {}'.format(label, alphas[k]))"
   ]
  },
  {
   "cell_type": "code",
   "execution_count": 31,
   "metadata": {},
   "outputs": [],
   "source": [
    "# Regs\n",
    "alphas = [0]  # [1e-4, 1e-2, .1, .5, 1]\n",
    "betas = [1.25]  # np.arange(.25, 3.1, .25) # np.insert(np.array([5, 10, 25]), 0, np.arange(.25, 1.6, .25))\n",
    "#gammas = [10, 50, 100, 150, 200, 250, 500, 750, 1000]  # [1, 10, 25, 50, 100]\n",
    "gammas = [0, 100]\n",
    "\n",
    "# Model params\n",
    "iters = 200\n",
    "M = 1000\n",
    "\n",
    "deltas  = [4e-2, .27, 2e-2]\n",
    "# deltas = [3e-3]\n",
    "# deltas = [0]\n",
    "\n",
    "gs = [\n",
    "    lambda a, b : cp.sum(a)/b,    # delta: 7e-2\n",
    "    lambda a, b : cp.sum(a**2)/b,  # delta: .7\n",
    "    #lambda a, b : cp.sum(cp.exp(-a))/b,    # delta: 3e-3\n",
    "    lambda a, b : cp.sum(cp.sqrt(a))/b,  # delta: 2e-2\n",
    "]\n",
    "bounds = [\n",
    "    lambda lamd, lamd_t, b : -2/b*lamd_t.T@lamd,\n",
    "    lambda lamd, lamd_t, b : 1/b*cp.exp(-lamd_t).T@lamd,\n",
    "    lambda lamd, lamd_t, b : cp.sum(lamd/cp.sqrt(lamd_t))/(2*b),\n",
    "]\n",
    "\n",
    "# Ref graph params\n",
    "n01 = 15\n",
    "n02 = 10\n",
    "\n",
    "# Target graph params \n",
    "n1 = 20\n",
    "n2 = 10"
   ]
  },
  {
   "cell_type": "code",
   "execution_count": 32,
   "metadata": {},
   "outputs": [
    {
     "name": "stdout",
     "output_type": "stream",
     "text": [
      "\tc-0: c: 3.700\tc0: 3.667\terr: 0.033333\terr norm: 0.009091\n",
      "\tc-1: c: 17.640\tc0: 17.387\terr: 0.253333\terr norm: 0.014571\n",
      "\tc-2: c: 1.828\tc0: 1.817\terr: 0.010217\terr norm: 0.005622\n"
     ]
    }
   ],
   "source": [
    "# Create graphs\n",
    "N0 = n01*n02\n",
    "A0 = nx.to_numpy_array(nx.grid_2d_graph(n01, n02))\n",
    "L0 = np.diag(np.sum(A0, 0)) - A0\n",
    "lambdas0, _ = np.linalg.eigh(L0)\n",
    "\n",
    "N = n1*n2\n",
    "A = nx.to_numpy_array(nx.grid_2d_graph(n1, n2))\n",
    "L = np.diag(np.sum(A, 0)) - A\n",
    "lambdas, V = np.linalg.eigh(L)\n",
    "\n",
    "A_n = np.linalg.norm(A,'fro')**2\n",
    "lambs_n = np.linalg.norm(lambdas)**2\n",
    "\n",
    "# Create C\n",
    "lambdas_aux = np.insert(1/np.sqrt(lambdas[1:]),0,0)\n",
    "C_inv_sqrt = V@np.diag(lambdas_aux)@V.T\n",
    "X = C_inv_sqrt@np.random.randn(N, M)\n",
    "C_hat = X@X.T/M\n",
    "\n",
    "# Get values from the reference graph\n",
    "cs = utils.compute_cs(gs, lambdas0, lambdas)"
   ]
  },
  {
   "cell_type": "code",
   "execution_count": 33,
   "metadata": {
    "scrolled": true
   },
   "outputs": [
    {
     "name": "stdout",
     "output_type": "stream",
     "text": [
      "Alpha: 0\n",
      "\tBeta: 1.25\n",
      "\t\tGamma: 0: ErrA: 0.032\n",
      "CONVERGENCE ACHIEVED\n",
      "\t\tGamma: 100: ErrA: 0.033\n",
      "----- 2.2286606272061666 mins -----\n"
     ]
    }
   ],
   "source": [
    "regs = {'alpha': 0, 'beta': 0, 'gamma': 0, 'deltas': deltas}\n",
    "\n",
    "t = time.time()\n",
    "err_A = np.zeros((len(gammas), len(betas), len(alphas)))\n",
    "err_lam = np.zeros((len(gammas), len(betas), len(alphas)))\n",
    "err_lam2 = np.zeros((len(gammas), len(betas), len(alphas)))\n",
    "for k, alpha in enumerate(alphas):\n",
    "    regs['alpha'] = alpha\n",
    "    print('Alpha:', alpha)\n",
    "    for j, beta in enumerate(betas):\n",
    "        regs['beta'] = beta\n",
    "        print('\\tBeta:', beta)\n",
    "        for i, gamma in enumerate(gammas):\n",
    "            regs['gamma'] = gamma\n",
    "            try:\n",
    "                L_hat, lam_hat, _ = snti.SGL_MM(C_hat, gs, bounds, cs,\n",
    "                                                regs, max_iters=iters)\n",
    "            except cp.SolverError:\n",
    "                err_A[i,j,k] = err_lam[i,j,k] = err_lam2[i,j,k] = 1\n",
    "                print('\\t\\tGamma: {}: Solver Error'.format(gamma))\n",
    "                continue\n",
    "            A_hat = np.diag(np.diag(L_hat)) - L_hat\n",
    "            lamd2_hat, _ = np.linalg.eigh(L_hat)\n",
    "            \n",
    "            err_A[i,j,k] = np.linalg.norm(A-A_hat,'fro')**2/A_n\n",
    "            err_lam[i,j,k] = np.linalg.norm(lambdas-lam_hat)**2/lambs_n\n",
    "            err_lam2[i,j,k] = np.linalg.norm(lambdas-lamd2_hat)**2/lambs_n\n",
    "            print('\\t\\tGamma: {}: ErrA: {:.3f}'.format(gamma, err_A[i,j,k]))\n",
    "            \n",
    "t = time.time() - t\n",
    "print('-----', str(t/60), 'mins -----')"
   ]
  },
  {
   "cell_type": "code",
   "execution_count": 34,
   "metadata": {},
   "outputs": [],
   "source": [
    "path = 'results\\samples_grid_graph'\n",
    "f1 = '\\heat_tight_errA'\n",
    "f2 = '\\heat_tight_errL'\n",
    "#np.save(path+f1, err_A)\n",
    "#np.save(path+f2, err_lam2)"
   ]
  },
  {
   "cell_type": "code",
   "execution_count": 35,
   "metadata": {
    "scrolled": true
   },
   "outputs": [
    {
     "name": "stdout",
     "output_type": "stream",
     "text": [
      "Min err A (Alpha: 0, Beta: 1.25, Gamma: 0): 0.032332\t Err in Lamb2: 0.005854\n",
      "Min err Lambd (Alpha: 0, Beta: 1.25, Gamma: 100): 0.002003\t Err in A: 0.032550\n",
      "Min err Lambd2 (Alpha: 0, Beta: 1.25, Gamma: 100): 0.002767\t Err in A: 0.032550\n"
     ]
    }
   ],
   "source": [
    "# Print results - Using pinv(C)\n",
    "idx = np.unravel_index(np.argmin(err_A), err_A.shape)\n",
    "print('Min err A (Alpha: {:.3g}, Beta: {:.3g}, Gamma: {:.3g}): {:.6f}\\t Err in Lamb2: {:.6f}'\n",
    "      .format(alphas[idx[2]], betas[idx[1]], gammas[idx[0]], err_A[idx], err_lam2[idx]))\n",
    "\n",
    "idx = np.unravel_index(np.argmin(err_lam), err_lam.shape)\n",
    "print('Min err Lambd (Alpha: {:.3g}, Beta: {:.3g}, Gamma: {:.3g}): {:.6f}\\t Err in A: {:.6f}'\n",
    "      .format(alphas[idx[2]], betas[idx[1]], gammas[idx[0]], err_lam[idx], err_A[idx]))\n",
    "\n",
    "idx = np.unravel_index(np.argmin(err_lam2), err_lam2.shape)\n",
    "print('Min err Lambd2 (Alpha: {:.3g}, Beta: {:.3g}, Gamma: {:.3g}): {:.6f}\\t Err in A: {:.6f}'\n",
    "      .format(alphas[idx[2]], betas[idx[1]], gammas[idx[0]], err_lam2[idx], err_A[idx]))"
   ]
  },
  {
   "cell_type": "code",
   "execution_count": 22,
   "metadata": {
    "scrolled": true
   },
   "outputs": [
    {
     "name": "stdout",
     "output_type": "stream",
     "text": [
      "Min err A (Alpha: 0, Beta: 0.75, Gamma: 1): 0.099765\t Err in Lamb2: 0.007466\n",
      "Min err Lambd (Alpha: 0, Beta: 0.75, Gamma: 1): 0.007110\t Err in A: 0.099765\n",
      "Min err Lambd2 (Alpha: 0, Beta: 0.75, Gamma: 1): 0.007466\t Err in A: 0.099765\n"
     ]
    }
   ],
   "source": [
    "# Print results - Using pinv(C)\n",
    "idx = np.unravel_index(np.argmin(err_A), err_A.shape)\n",
    "print('Min err A (Alpha: {:.3g}, Beta: {:.3g}, Gamma: {:.3g}): {:.6f}\\t Err in Lamb2: {:.6f}'\n",
    "      .format(alphas[idx[2]], betas[idx[1]], gammas[idx[0]], err_A[idx], err_lam2[idx]))\n",
    "\n",
    "idx = np.unravel_index(np.argmin(err_lam), err_lam.shape)\n",
    "print('Min err Lambd (Alpha: {:.3g}, Beta: {:.3g}, Gamma: {:.3g}): {:.6f}\\t Err in A: {:.6f}'\n",
    "      .format(alphas[idx[2]], betas[idx[1]], gammas[idx[0]], err_lam[idx], err_A[idx]))\n",
    "\n",
    "idx = np.unravel_index(np.argmin(err_lam2), err_lam2.shape)\n",
    "print('Min err Lambd2 (Alpha: {:.3g}, Beta: {:.3g}, Gamma: {:.3g}): {:.6f}\\t Err in A: {:.6f}'\n",
    "      .format(alphas[idx[2]], betas[idx[1]], gammas[idx[0]], err_lam2[idx], err_A[idx]))"
   ]
  },
  {
   "cell_type": "code",
   "execution_count": 8,
   "metadata": {},
   "outputs": [],
   "source": [
    "plot_err(err_A, alphas, betas, gammas, bounds)"
   ]
  },
  {
   "cell_type": "code",
   "execution_count": 9,
   "metadata": {},
   "outputs": [],
   "source": [
    "plot_err(err_lam2, alphas, betas, gammas, bounds, label='Lambd2')"
   ]
  },
  {
   "cell_type": "code",
   "execution_count": null,
   "metadata": {},
   "outputs": [],
   "source": []
  }
 ],
 "metadata": {
  "kernelspec": {
   "display_name": "Python 3",
   "language": "python",
   "name": "python3"
  },
  "language_info": {
   "codemirror_mode": {
    "name": "ipython",
    "version": 3
   },
   "file_extension": ".py",
   "mimetype": "text/x-python",
   "name": "python",
   "nbconvert_exporter": "python",
   "pygments_lexer": "ipython3",
   "version": "3.8.3"
  }
 },
 "nbformat": 4,
 "nbformat_minor": 4
}
