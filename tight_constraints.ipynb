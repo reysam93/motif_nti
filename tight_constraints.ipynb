{
 "cells": [
  {
   "cell_type": "code",
   "execution_count": 1,
   "metadata": {},
   "outputs": [],
   "source": [
    "import cvxpy as cp\n",
    "import networkx as nx\n",
    "import numpy as np\n",
    "import matplotlib.pyplot as plt\n",
    "\n",
    "import time\n",
    "from joblib import Parallel, delayed\n",
    "from os import cpu_count\n",
    "\n",
    "import utils\n",
    "import spectral_nti as snti\n",
    "\n",
    "SEED = 0\n",
    "N_CPUS = cpu_count()\n",
    "np.random.seed(SEED)"
   ]
  },
  {
   "cell_type": "markdown",
   "metadata": {},
   "source": [
    "## Auxiliary functions"
   ]
  },
  {
   "cell_type": "code",
   "execution_count": 2,
   "metadata": {},
   "outputs": [],
   "source": [
    "def est_graph(id, models, MM, X):\n",
    "    N = X.shape[0]\n",
    "    A_hat = np.zeros((N, N, len(models), len(MM)))\n",
    "    lamd_hat = np.zeros((N,len(models), len(MM)))\n",
    "    t = time.time()\n",
    "    for i,M in enumerate(MM):\n",
    "        C_hat = X[:,:M]@X[:,:M].T/M\n",
    "\n",
    "        for j, model in enumerate(models):\n",
    "            L_hat, _ = \\\n",
    "                snti.SGL_MM(C_hat, model['gs'], model['bounds'],\n",
    "                            model['cs'], model['regs'], max_iters=iters)\n",
    "\n",
    "            A_hat[:,:,j,i] = np.diag(np.diag(L_hat)) - L_hat\n",
    "            lamd_hat[:,j,i], _ = np.linalg.eigh(L_hat)\n",
    "    t = time.time() - t\n",
    "    print('Cov-{} - Time(sec): {:.3}'.format(id,  t))\n",
    "    return A_hat, lamd_hat\n",
    "\n",
    "\n",
    "def est_errs(A_hat, A):\n",
    "    L = np.diag(np.sum(A,0)) - A\n",
    "    norm_A = np.linalg.norm(A,'fro')\n",
    "    norm_L = np.linalg.norm(L,'fro')\n",
    "    \n",
    "    err_A = np.zeros(A_hat.shape[2:])\n",
    "    err_L = np.zeros(A_hat.shape[2:])\n",
    "    for k in range(A_hat.shape[-1]):\n",
    "        for i in range(A_hat.shape[-2]):\n",
    "            for j in range(A_hat.shape[-3]):\n",
    "                L_hat = np.diag(np.sum(A_hat[:,:,j,i,k],0)) - A_hat[:,:,j,i,k]\n",
    "\n",
    "                err_A[j,i,k] = np.linalg.norm(A-A_hat[:,:,j,i,k],'fro')**2/norm_A**2\n",
    "                err_L[j,i,k] = np.linalg.norm(L-L_hat,'fro')**2/norm_L**2\n",
    "    return err_A, err_L\n",
    "\n",
    "\n",
    "def est_errs2(A_hat, A):\n",
    "    L = np.diag(np.sum(A,0)) - A\n",
    "    norm_A = np.linalg.norm(A,'fro')\n",
    "    norm_L = np.linalg.norm(L,'fro')\n",
    "\n",
    "    err_A = np.zeros(A_hat.shape[2:])\n",
    "    err_L = np.zeros(A_hat.shape[2:])\n",
    "    for k in range(A_hat.shape[-1]):\n",
    "        for i in range(A_hat.shape[-2]):\n",
    "            for j in range(A_hat.shape[-3]):\n",
    "                L_hat = np.diag(np.sum(A_hat[:,:,j,i,k],0)) - A_hat[:,:,j,i,k]\n",
    "                if np.all((A_hat[:,:,j,i,k] == 0)):\n",
    "                    print('WARNING: A_hat is 0.')\n",
    "                    norm_A_hat = 1\n",
    "                    norm_lamb_hat = 1\n",
    "                else:\n",
    "                    norm_A_hat = np.linalg.norm(A_hat[:,:,j,i,k], 'fro')\n",
    "                    norm_L_hat = np.linalg.norm(L_hat, 'fro')\n",
    "\n",
    "                A_hat_norm = A_hat[:,:,j,i,k]/norm_A_hat\n",
    "                L_hat_norm = L_hat/norm_L_hat\n",
    "                err_A[j,i,k] = np.linalg.norm(A/norm_A-A_hat_norm,'fro')**2\n",
    "                err_L[j,i,k] = np.linalg.norm(L/norm_L-L_hat_norm,'fro')**2\n",
    "    return err_A, err_L\n",
    "\n",
    "\n",
    "def plot_err(MM, models, err, ylab, semlogy=True):\n",
    "    plt.figure()\n",
    "    for i, model in enumerate(models):\n",
    "        if semlogy:\n",
    "            plt.semilogy(MM, err[i,:], model['fmt'], label=model['name'],\n",
    "                        linewidth=2, markersize=12)\n",
    "        else:\n",
    "            plt.plot(MM, err[i,:], model['fmt'], label=model['name'],\n",
    "                     linewidth=2, markersize=12)\n",
    "        plt.grid(True)\n",
    "        plt.xlabel('Number of samples')\n",
    "        plt.ylabel(ylab)\n",
    "        plt.legend()\n",
    "        plt.tight_layout()\n",
    "\n",
    "\n",
    "def print_err(MM, models, err):\n",
    "    mean_err = np.mean(err, 2)\n",
    "    std = np.std(err, 2)\n",
    "    for i, M in enumerate(MM):\n",
    "        print('M:', M)\n",
    "        for j, model in enumerate(models):\n",
    "            print('\\t{}: mean err: {:.6f} - std: {:.6f}'.\n",
    "                  format(model['name'], mean_err[j,i], std[j,i]))"
   ]
  },
  {
   "cell_type": "markdown",
   "metadata": {},
   "source": [
    "## Create graphs"
   ]
  },
  {
   "cell_type": "code",
   "execution_count": 4,
   "metadata": {},
   "outputs": [
    {
     "name": "stdout",
     "output_type": "stream",
     "text": [
      "Norm of A: 27.202941017470888\n",
      "Norm of lambdas: 59.39696961966998\n"
     ]
    }
   ],
   "source": [
    "# Ref grap\n",
    "n01 = 15\n",
    "n02 = 10\n",
    "N0 = n01*n02\n",
    "A0 = nx.to_numpy_array(nx.grid_2d_graph(n01, n02))\n",
    "L0 = np.diag(np.sum(A0, 0)) - A0\n",
    "lambdas0, _ = np.linalg.eigh(L0)\n",
    "\n",
    "# Target graph\n",
    "n1 = 20\n",
    "n2 = 10\n",
    "N = n1*n2\n",
    "A = nx.to_numpy_array(nx.grid_2d_graph(n1, n2))\n",
    "L = np.diag(np.sum(A, 0)) - A\n",
    "lambdas, V = np.linalg.eigh(L)\n",
    "\n",
    "norm_A = np.linalg.norm(A,'fro')\n",
    "norm_lamb = np.linalg.norm(lambdas)\n",
    "\n",
    "print('Norm of A:', norm_A)\n",
    "print('Norm of lambdas:', norm_lamb)\n",
    "\n",
    "# Plot graphs and spectrum distribution\n",
    "plt.figure()\n",
    "plt.subplot(1,2,1)\n",
    "plt.imshow(A0)\n",
    "plt.title('Ref A, N0: ' + str(N0))\n",
    "plt.subplot(1,2,2)\n",
    "plt.imshow(A)\n",
    "plt.title('True A, N: ' + str(N))\n",
    "    \n",
    "figs, axs = plt.subplots(1, 2, sharey=True)\n",
    "axs[0].hist(lambdas0, density=True)\n",
    "axs[0].set_title('Ref Lambdas, N0: ' + str(N0))\n",
    "axs[1].hist(lambdas, density=True)\n",
    "axs[1].set_title('True Lambdas, N: ' + str(N))"
   ]
  },
  {
   "cell_type": "markdown",
   "metadata": {},
   "source": [
    "## Test influence of tightening constraints"
   ]
  },
  {
   "cell_type": "code",
   "execution_count": 18,
   "metadata": {},
   "outputs": [
    {
     "name": "stdout",
     "output_type": "stream",
     "text": [
      "\tc-0: c: 3.700\tc0: 3.667\terr: 0.033333\terr norm: 0.009091\n",
      "\tc-1: c: 17.640\tc0: 17.387\terr: 0.253333\terr norm: 0.014571\n",
      "\tc-2: c: 0.114\tc0: 0.115\terr: -0.001259\terr norm: -0.010911\n",
      "\tc-3: c: 1.828\tc0: 1.817\terr: 0.010217\terr norm: 0.005622\n",
      "\tc-4: c: 1.635\tc0: 1.597\terr: 0.038333\terr norm: 0.024008\n"
     ]
    }
   ],
   "source": [
    "n_covs = 100\n",
    "MM = [500, 750, 1000]\n",
    "iters = 200\n",
    "\n",
    "GS = [\n",
    "    lambda a, b : cp.sum(a)/b,\n",
    "    lambda a, b : cp.sum(a**2)/b,\n",
    "    lambda a, b : cp.sum(cp.exp(-a))/b,\n",
    "    lambda a, b : cp.sum(cp.sqrt(a))/b,\n",
    "    lambda a, b : cp.sum(.25*a**2-.75*a)/b,\n",
    "]\n",
    "BOUNDS = [\n",
    "    lambda lamd, lamd_t, b : -2/b*lamd_t.T@lamd,\n",
    "    lambda lamd, lamd_t, b : 1/b*cp.exp(-lamd_t).T@lamd,\n",
    "    lambda lamd, lamd_t, b : cp.sum(lamd/cp.sqrt(lamd_t))/(2*b),\n",
    "    lambda lamd, lamd_t, b: 1/b*(0.75-2*0.25*lamd_t).T@lamd,\n",
    "]\n",
    "\n",
    "deltas = [.04, .27, .003, .02, 0.05]\n",
    "cs = utils.compute_cs(GS, lambdas0, lambdas)\n",
    "\n",
    "models = [\n",
    "          {'name': 'Sq', 'gs': GS[1], 'bounds': [], 'cs': cs[1], 'fmt': 'o-',\n",
    "           'regs': {'alpha': 0, 'beta': 1.5, 'gamma': 0, 'deltas': deltas[1]}},\n",
    "\n",
    "          {'name': 'Sq-T', 'gs': GS[1], 'bounds': BOUNDS[0], 'cs': cs[1], 'fmt': 'o--',\n",
    "           'regs': {'alpha': .0, 'beta': 1.25, 'gamma': 1000, 'deltas': deltas[1]}},\n",
    "\n",
    "          {'name': 'Heat', 'gs': GS[2], 'bounds': [], 'cs': cs[2], 'fmt': 'x-',\n",
    "           'regs': {'alpha': .001, 'beta': .5, 'gamma': 0, 'deltas': deltas[2]}},\n",
    "\n",
    "          {'name': 'Heat-T', 'gs': GS[2], 'bounds': BOUNDS[1], 'cs': cs[2], 'fmt': 'x--',\n",
    "           'regs': {'alpha': .001, 'beta': .4, 'gamma': 100, 'deltas': deltas[2]}},\n",
    "\n",
    "          {'name': 'Sqrt', 'gs': GS[3], 'bounds': [], 'cs': cs[3], 'fmt': 'v-',\n",
    "           'regs': {'alpha': .01, 'beta': .5, 'gamma': 0, 'deltas': deltas[3]}},\n",
    "\n",
    "          {'name': 'Sqrt-T', 'gs': GS[3], 'bounds': BOUNDS[2], 'cs': cs[3], 'fmt': 'v--',\n",
    "           'regs': {'alpha': .01, 'beta': .5, 'gamma': 25, 'deltas': deltas[3]}},\n",
    "\n",
    "          {'name': 'Poly', 'gs': GS[4], 'bounds': [], 'cs': cs[4], 'fmt': 's-',\n",
    "           'regs': {'alpha': 0, 'beta': 1.25, 'gamma': 0, 'deltas': deltas[4]}},\n",
    "\n",
    "          {'name': 'Poly-T', 'gs': GS[4], 'bounds': BOUNDS[3], 'cs': cs[4], 'fmt': 's--',\n",
    "           'regs': {'alpha': 0, 'beta': 1, 'gamma': 1000, 'deltas': deltas[4]}},\n",
    "]"
   ]
  },
  {
   "cell_type": "code",
   "execution_count": 19,
   "metadata": {
    "scrolled": true
   },
   "outputs": [
    {
     "name": "stdout",
     "output_type": "stream",
     "text": [
      "N_CPUS: 12\n"
     ]
    }
   ],
   "source": [
    "# Create signals\n",
    "lambdas_aux = np.concatenate(([0], 1/np.sqrt(lambdas[1:])))\n",
    "C_inv_sqrt = V@np.diag(lambdas_aux)@V.T\n",
    "X = C_inv_sqrt@np.random.randn(n_covs, N, MM[-1])\n",
    "\n",
    "# Estimate graph\n",
    "total_t = time.time()\n",
    "As_hat = np.zeros((N, N, len(models), len(MM), n_covs))\n",
    "lamds_hat = np.zeros((N, len(models), len(MM), n_covs)) \n",
    "\n",
    "print('N_CPUS:', N_CPUS)\n",
    "pool = Parallel(n_jobs=N_CPUS)\n",
    "resps = pool(delayed(est_graph)(i, models, MM, X[i,:,:]) for i in range(n_covs))\n",
    "for i, resp in enumerate(resps):\n",
    "    As_hat[:,:,:,:,i], lamds_hat[:,:,:,i] = resp\n",
    "\n",
    "total_t = time.time() - total_t\n",
    "print('-----', total_t/60, ' mins -----')"
   ]
  },
  {
   "cell_type": "code",
   "execution_count": null,
   "metadata": {},
   "outputs": [],
   "source": [
    "err_A, err_L = est_errs(As_hat, A)\n",
    "print_err(MM, models, err_L)\n",
    "\n",
    "# Plot error \n",
    "mean_err = np.mean(err_A, 2)\n",
    "mean_err_L = np.mean(err_L, 2)\n",
    "plot_err(MM, models, mean_err, 'Mean Err1 A')\n",
    "plot_err(MM, models, mean_err_L, 'Mean Err1 L')"
   ]
  },
  {
   "cell_type": "code",
   "execution_count": null,
   "metadata": {},
   "outputs": [],
   "source": [
    "err_A, err_L = est_errs2(As_hat, A)\n",
    "print_err(MM, models, err_L)\n",
    "\n",
    "# Plot error \n",
    "mean_err = np.mean(err_A, 2)\n",
    "mean_err_L = np.mean(err_L, 2)\n",
    "plot_err(MM, models, mean_err, 'Mean Err1 A')\n",
    "plot_err(MM, models, mean_err_L, 'Mean Err1 L')"
   ]
  },
  {
   "cell_type": "code",
   "execution_count": null,
   "metadata": {},
   "outputs": [],
   "source": [
    "# Save data\n",
    "models_aux = [{'name': model['name'], 'fmt': model['fmt'], 'regs': model['regs']}\n",
    "                for model in models]\n",
    "data = {\n",
    "    'A': A,\n",
    "    'lambdas': lambdas,\n",
    "    'As_hat': As_hat,\n",
    "    'lamds_hat': lamds_hat,\n",
    "    'MM': MM,\n",
    "    'models': models_aux\n",
    "}\n",
    "# np.save('results/tight_constraints/tight_constraints', data)"
   ]
  }
 ],
 "metadata": {
  "kernelspec": {
   "display_name": "Python 3",
   "language": "python",
   "name": "python3"
  },
  "language_info": {
   "codemirror_mode": {
    "name": "ipython",
    "version": 3
   },
   "file_extension": ".py",
   "mimetype": "text/x-python",
   "name": "python",
   "nbconvert_exporter": "python",
   "pygments_lexer": "ipython3",
   "version": "3.8.3"
  }
 },
 "nbformat": 4,
 "nbformat_minor": 4
}
