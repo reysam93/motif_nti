{
 "cells": [
  {
   "cell_type": "markdown",
   "metadata": {},
   "source": [
    "This script test the impact of using different types of spectral constraints to estimate the desired graph. Graphs are generated as grid graphs where each node has 4 neighbors except those nodes on the borders. The error of the recovered graph is computed as the number of samples increases."
   ]
  },
  {
   "cell_type": "code",
   "execution_count": 1,
   "metadata": {},
   "outputs": [],
   "source": [
    "import cvxpy as cp\n",
    "import networkx as nx\n",
    "import numpy as np\n",
    "import matplotlib.pyplot as plt\n",
    "\n",
    "import time\n",
    "from joblib import Parallel, delayed\n",
    "from os import cpu_count\n",
    "\n",
    "import src.utils as utils\n",
    "\n",
    "# %matplotlib qt\n",
    "\n",
    "SEED = 0\n",
    "N_CPUS = cpu_count()\n",
    "np.random.seed(SEED)\n",
    "DATASET_PATH = 'data/student_networks/'"
   ]
  },
  {
   "cell_type": "markdown",
   "metadata": {},
   "source": [
    "## Considered constraints"
   ]
  },
  {
   "cell_type": "code",
   "execution_count": 2,
   "metadata": {},
   "outputs": [],
   "source": [
    "GS = [\n",
    "    lambda a, b : cp.sum(a)/b,\n",
    "    lambda a, b : cp.sum(a**2)/b,\n",
    "    lambda a, b : cp.sum(cp.exp(-a))/b,\n",
    "    lambda a, b : cp.sum(.25*a**2-.75*a)/b,\n",
    "]\n",
    "BOUNDS = [\n",
    "    lambda lamd, lamd_t, b : -2/b*lamd_t.T@lamd,\n",
    "    lambda lamd, lamd_t, b : 1/b*cp.exp(-lamd_t).T@lamd,\n",
    "    lambda lamd, lamd_t, b: 1/b*(0.75-2*0.25*lamd_t).T@lamd,\n",
    "]"
   ]
  },
  {
   "cell_type": "markdown",
   "metadata": {},
   "source": [
    "## Auxiliary functions"
   ]
  },
  {
   "cell_type": "code",
   "execution_count": 3,
   "metadata": {},
   "outputs": [],
   "source": [
    "def est_graph(id, models, MM, L, iters):\n",
    "    X = utils.create_signals(L, MM[-1])\n",
    "\n",
    "    N = X.shape[0]\n",
    "    L_hat = np.zeros((N, N, len(models), len(MM)))\n",
    "    lamd_hat = np.zeros((N, len(models), len(MM)))\n",
    "    for i,M in enumerate(MM):\n",
    "        C_hat = X[:,:M]@X[:,:M].T/M\n",
    "\n",
    "        # Individual standard constraints\n",
    "        for j, model in enumerate(models):\n",
    "            t = time.time()\n",
    "            L_hat[:,:,j,i], lamd_hat[:,j,i] = utils.est_graph(C_hat, model, iters) \n",
    "            t = time.time() - t\n",
    "            print('Cov-{}, M-{}: Model: {} - Time(sec): {:.3}'.format(id, M, model['name'], t))\n",
    "    return L_hat, lamd_hat\n",
    "\n",
    "\n",
    "def est_errs1(L, lamd, L_hat, lams_hat, sq_err=True):\n",
    "    norm_L = np.linalg.norm(L, 'fro')\n",
    "    norm_lam = np.linalg.norm(lamd, 2)\n",
    "    \n",
    "    err_lamb = np.zeros(lams_hat.shape[1:])\n",
    "    err_L = np.zeros(L_hat.shape[2:])\n",
    "    for k in range(L_hat.shape[-1]):\n",
    "        for i in range(L_hat.shape[-2]):\n",
    "            for j in range(L_hat.shape[-3]):\n",
    "                err_L[j,i,k] = np.linalg.norm(L-L_hat[:,:,j,i,k], 'fro')/norm_L\n",
    "                err_lamb[j,i,k] = np.linalg.norm(lamd-lams_hat[:,j,i,k], 2)/norm_lam\n",
    "\n",
    "                if sq_err:\n",
    "                    err_L[j,i,k] = err_L[j,i,k]**2\n",
    "                    err_lamb[j,i,k] = err_lamb[j,i,k]**2\n",
    "\n",
    "    return err_L, err_lamb\n",
    "\n",
    "\n",
    "def est_errs2(L, lamd, L_hat, lams_hat, sq_err=True):\n",
    "    norm_L = np.linalg.norm(L, 'fro')\n",
    "    norm_lam = np.linalg.norm(lamd, 2)\n",
    "    \n",
    "    err_lamb = np.zeros(lams_hat.shape[1:])\n",
    "    err_L = np.zeros(L_hat.shape[2:])\n",
    "    for k in range(L_hat.shape[-1]):\n",
    "        for i in range(L_hat.shape[-2]):\n",
    "            for j in range(L_hat.shape[-3]):\n",
    "                if np.all((L_hat[:,:,j,i,k] == 0)):\n",
    "                    norm_L_hat = 1\n",
    "                    norm_lam_hat = 1\n",
    "                else:\n",
    "                    norm_L_hat = np.linalg.norm(L_hat[:,:,j,i,k], 'fro')\n",
    "                    norm_lam_hat = np.linalg.norm(lams_hat[:,j,i,k], 2)\n",
    "\n",
    "                L_hat_norm = L_hat[:,:,j,i,k]/norm_L_hat\n",
    "                lam_hat_norm = lams_hat[:,j,i,k]/norm_lam_hat\n",
    "                err_L[j,i,k] = np.linalg.norm(L/norm_L-L_hat_norm,'fro')\n",
    "                err_lamb[j,i,k] = np.linalg.norm(lamd/norm_lam-lam_hat_norm, 2)\n",
    "\n",
    "                if sq_err:\n",
    "                    err_L[j,i,k] = err_L[j,i,k]**2\n",
    "                    err_lamb[j,i,k] = err_lamb[j,i,k]**2\n",
    "\n",
    "    return err_L, err_lamb\n",
    "\n",
    "\n",
    "def plot_err(MM, models, err, ylab, logy=True, ylim=[]):\n",
    "    plt.figure()\n",
    "    for i, model in enumerate(models):\n",
    "        if logy:\n",
    "            plt.semilogy(MM, err[i,:], model['fmt'], label=model['name'],\n",
    "                        linewidth=2, markersize=12)\n",
    "        else:\n",
    "            plt.plot(MM, err[i,:], model['fmt'], label=model['name'],\n",
    "                         linewidth=2, markersize=12)\n",
    "        plt.grid(True)\n",
    "        plt.xlabel('M')\n",
    "        plt.ylabel(ylab)\n",
    "        plt.legend()\n",
    "        plt.xlim([MM[0], MM[-1]])\n",
    "        if ylim:\n",
    "            plt.ylim(ylim)\n",
    "        plt.tight_layout()\n"
   ]
  },
  {
   "cell_type": "markdown",
   "metadata": {},
   "source": [
    "## Using graphs 10 and 8 "
   ]
  },
  {
   "cell_type": "markdown",
   "metadata": {},
   "source": [
    "### Read graphs"
   ]
  },
  {
   "cell_type": "code",
   "execution_count": 4,
   "metadata": {},
   "outputs": [
    {
     "name": "stdout",
     "output_type": "stream",
     "text": [
      "\tc-0: c: 3.625\tc0: 3.500\terr: 0.125000\terr norm: 0.035714\n",
      "\tc-1: c: 18.438\tc0: 17.562\terr: 0.875000\terr norm: 0.049822\n",
      "\tc-2: c: 0.142\tc0: 0.140\terr: 0.001805\terr norm: 0.012914\n",
      "\tc-3: c: 1.891\tc0: 1.766\terr: 0.125000\terr norm: 0.070796\n"
     ]
    },
    {
     "data": {
      "text/plain": [
       "Text(0.5, 1.0, 'True Lambdas, N: 32')"
      ]
     },
     "execution_count": 4,
     "metadata": {},
     "output_type": "execute_result"
    },
    {
     "data": {
      "image/png": "[encoded data removed]",
      "text/plain": [
       "<Figure size 432x288 with 1 Axes>"
      ]
     },
     "metadata": {},
     "output_type": "display_data"
    },
    {
     "data": {
      "image/png": "[encoded data removed]",
      "text/plain": [
       "<Figure size 432x288 with 1 Axes>"
      ]
     },
     "metadata": {},
     "output_type": "display_data"
    },
    {
     "data": {
      "image/png": "[encoded data removed]",
      "text/plain": [
       "<Figure size 432x288 with 2 Axes>"
      ]
     },
     "metadata": {
      "needs_background": "light"
     },
     "output_type": "display_data"
    }
   ],
   "source": [
    "graphs_idx = [10,8]\n",
    "As = utils.get_student_networks_graphs(graphs_idx, DATASET_PATH)\n",
    "A0 = As[:,:,0]\n",
    "N0 = A0.shape[0]\n",
    "L0 = np.diag(np.sum(A0, 0)) - A0\n",
    "lambdas0, _ = np.linalg.eigh(L0)\n",
    "\n",
    "A = As[:,:,1]\n",
    "N = A.shape[0]\n",
    "L = np.diag(np.sum(A, 0)) - A\n",
    "lambdas, _ = np.linalg.eigh(L)\n",
    "\n",
    "cs, _ = utils.compute_cs(GS, lambdas0, lambdas, verbose=True)\n",
    "\n",
    "plt.figure()\n",
    "nx.draw(nx.from_numpy_matrix(A0))\n",
    "plt.title('A0')\n",
    "plt.figure()\n",
    "nx.draw(nx.from_numpy_matrix(A))\n",
    "plt.title('A')\n",
    "\n",
    "figs, axs = plt.subplots(1, 2, sharey=True)\n",
    "axs[0].hist(lambdas0, density=True)\n",
    "axs[0].set_title('Ref Lambdas, N0: ' + str(N0))\n",
    "axs[1].hist(lambdas, density=True)\n",
    "axs[1].set_title('True Lambdas, N: ' + str(N))"
   ]
  },
  {
   "cell_type": "markdown",
   "metadata": {},
   "source": [
    "### Experiment parameters"
   ]
  },
  {
   "cell_type": "code",
   "execution_count": 5,
   "metadata": {},
   "outputs": [],
   "source": [
    "n_covs = 50\n",
    "MM = np.arange(50, 401, 50)  #np.arange(50, 401, 25)\n",
    "iters = 100  #200\n",
    "\n",
    "deltas = [.13, .88, .002, .13]\n",
    "\n",
    "# regs for 100 iters - M=200\n",
    "models = [\n",
    "    # Baselines\n",
    "    {'name': 'GLasso', 'alpha': 0.05, 'fmt': '^--'},\n",
    "    {'name': 'Tr=N', 'cs': 1, 'gs': GS[0], 'bounds': [], 'fmt': '2--',\n",
    "     'regs': {'alpha': 0, 'beta': 1, 'gamma': 0, 'deltas': 1e-4}},\n",
    "    {'name': 'SGL', 'fmt': '*--', 'regs': {'alpha': .001, 'beta': 2, \n",
    "     'c1': .01, 'c2': 10, 'conn_comp': 1}},\n",
    "    {'name': 'Unc', 'cs': [], 'gs': [], 'bounds': [], 'fmt': 'v-',\n",
    "     'regs': {'alpha': .001, 'beta': 2, 'gamma': 0, 'deltas': []}},\n",
    "\n",
    "    # Our algorithms\n",
    "    {'name': 'MGL-Tr', 'cs': cs[0], 'gs': GS[0], 'bounds': [], 'fmt': '2-',\n",
    "     'regs': {'alpha': 0, 'beta': 1.6, 'gamma': 0, 'deltas': deltas[0]}},\n",
    "    # {'name': 'MGL-Sq', 'cs': cs[1], 'gs': GS[1], 'bounds': BOUNDS[0], 'fmt': 'o-',\n",
    "    #  'regs': {'alpha': 0, 'beta': .9, 'gamma': 10000, 'deltas': deltas[1]}},\n",
    "    # {'name': 'MGL-Heat', 'cs': cs[2], 'gs': GS[2], 'bounds': BOUNDS[1], 'fmt': 'x-',\n",
    "    #  'regs': {'alpha': 0, 'beta': 1.1, 'gamma': 5000, 'deltas': deltas[2]}},\n",
    "    {'name': 'MGL-Poly', 'cs': cs[3], 'gs': GS[3], 'bounds': BOUNDS[2], 'fmt': 's-',\n",
    "     'regs': {'alpha': 0, 'beta': 1.5, 'gamma': 1000, 'deltas': deltas[3]}},\n",
    "]\n",
    "\n",
    "# regs for 200 iters - M=200\n",
    "models = [\n",
    "    # Baselines\n",
    "    {'name': 'GLasso', 'alpha': 0.05, 'fmt': '^--'},\n",
    "    {'name': 'Tr=N', 'cs': 1, 'gs': GS[0], 'bounds': [], 'fmt': '2--',\n",
    "     'regs': {'alpha': 0, 'beta': 1.6, 'gamma': 0, 'deltas': 1e-4}},\n",
    "    {'name': 'SGL', 'fmt': '*--', 'regs': {'alpha': .001, 'beta': 2.5, \n",
    "     'c1': .01, 'c2': 10, 'conn_comp': 1}},\n",
    "    {'name': 'Unc', 'cs': [], 'gs': [], 'bounds': [], 'fmt': 'v-',\n",
    "     'regs': {'alpha': .001, 'beta': 2.5, 'gamma': 0, 'deltas': []}},\n",
    "\n",
    "    # Our algorithms\n",
    "    {'name': 'MGL-Tr', 'cs': cs[0], 'gs': GS[0], 'bounds': [], 'fmt': '2-',\n",
    "     'regs': {'alpha': 0, 'beta': 2.4, 'gamma': 0, 'deltas': deltas[0]}},\n",
    "    # {'name': 'MGL-Sq', 'cs': cs[1], 'gs': GS[1], 'bounds': BOUNDS[0], 'fmt': 'o-',\n",
    "    #  'regs': {'alpha': 0, 'beta': .9, 'gamma': 10000, 'deltas': deltas[1]}},\n",
    "    # {'name': 'MGL-Heat', 'cs': cs[2], 'gs': GS[2], 'bounds': BOUNDS[1], 'fmt': 'x-',\n",
    "    #  'regs': {'alpha': 0, 'beta': 1.1, 'gamma': 5000, 'deltas': deltas[2]}},\n",
    "    {'name': 'MGL-Poly', 'cs': cs[3], 'gs': GS[3], 'bounds': BOUNDS[2], 'fmt': 's-',\n",
    "     'regs': {'alpha': 0, 'beta': 2.1, 'gamma': 5000, 'deltas': deltas[3]}},\n",
    "]\n",
    "\n",
    "\n",
    "# # regs for 200 iters\n",
    "# models = [\n",
    "#     # Baselines\n",
    "#     {'name': 'GLasso', 'alpha': 0.1, 'fmt': '^--'},\n",
    "#     {'name': 'GLasso', 'alpha': 0.05, 'fmt': '^--'},\n",
    "#     {'name': 'GLasso', 'alpha': 0.03, 'fmt': '^--'},\n",
    "\n",
    "\n",
    "#     {'name': 'Tr=N', 'cs': 1, 'gs': GS[0], 'bounds': [], 'fmt': '2--',\n",
    "#      'regs': {'alpha': 0, 'beta': 1.1, 'gamma': 0, 'deltas': 1e-4}},\n",
    "#     {'name': 'SGL', 'fmt': '*--', 'regs': {'alpha': 0, 'beta': 1.5, \n",
    "#      'c1': .01, 'c2': 10, 'conn_comp': 1}},\n",
    "#     {'name': 'Unc', 'cs': [], 'gs': [], 'bounds': [], 'fmt': 'v-',\n",
    "#      'regs': {'alpha': 0, 'beta': 1.5, 'gamma': 0, 'deltas': []}},\n",
    "\n",
    "#     # Our algorithms\n",
    "#     {'name': 'MGL-Tr', 'cs': cs[0], 'gs': GS[0], 'bounds': [], 'fmt': '2-',\n",
    "#      'regs': {'alpha': 0, 'beta': 1.1, 'gamma': 0, 'deltas': deltas[0]}},\n",
    "#     {'name': 'MGL-Sq', 'cs': cs[1], 'gs': GS[1], 'bounds': BOUNDS[0], 'fmt': 'o-',\n",
    "#      'regs': {'alpha': 0, 'beta': .9, 'gamma': 10000, 'deltas': deltas[1]}},\n",
    "#     # {'name': 'MGL-Heat', 'cs': cs[2], 'gs': GS[2], 'bounds': BOUNDS[1], 'fmt': 'x-',\n",
    "#     #  'regs': {'alpha': 0, 'beta': 1.1, 'gamma': 5000, 'deltas': deltas[2]}},\n",
    "#     {'name': 'MGL-Poly', 'cs': cs[3], 'gs': GS[3], 'bounds': BOUNDS[2], 'fmt': 's-',\n",
    "#      'regs': {'alpha': 0, 'beta': .9, 'gamma': 10000, 'deltas': deltas[3]}},\n",
    "# ]\n",
    "\n",
    "# regs for 100 iters\n",
    "# models = [\n",
    "#     # Baselines\n",
    "#     # {'name': 'GLasso', 'alpha': 0.05, 'fmt': '^--'},\n",
    "#     # {'name': 'GLasso', 'alpha': 0.03, 'fmt': '^--'},\n",
    "#     {'name': 'MGL-Tr=1', 'cs': 1, 'gs': GS[0], 'bounds': [], 'fmt': '2--',\n",
    "#      'regs': {'alpha': 0, 'beta': .9, 'gamma': 0, 'deltas': 1e-4}},\n",
    "#     {'name': 'SGL', 'fmt': '*--', 'regs': {'alpha': 0, 'beta': 1.5, 'c1': .01, 'c2': 10, 'conn_comp': 1}},\n",
    "#     {'name': 'Unc', 'cs': [], 'gs': [], 'bounds': [], 'fmt': 'v-',\n",
    "#      'regs': {'alpha': 0, 'beta': 1.5, 'gamma': 0, 'deltas': []}},\n",
    "\n",
    "#     # Our algorithms\n",
    "#     {'name': 'MGL-Tr', 'cs': cs[0], 'gs': GS[0], 'bounds': [], 'fmt': '2-',\n",
    "#      'regs': {'alpha': 0, 'beta': .7, 'gamma': 0, 'deltas': deltas[0]}},\n",
    "#     # {'name': 'MGL-Sq', 'cs': cs[1], 'gs': GS[1], 'bounds': BOUNDS[0], 'fmt': 'o-',\n",
    "#     #  'regs': {'alpha': 0, 'beta': .9, 'gamma': 10000, 'deltas': deltas[1]}},\n",
    "#     # {'name': 'MGL-Heat', 'cs': cs[2], 'gs': GS[2], 'bounds': BOUNDS[1], 'fmt': 'x-',\n",
    "#     #  'regs': {'alpha': 0, 'beta': 1.1, 'gamma': 5000, 'deltas': deltas[2]}},\n",
    "#     {'name': 'MGL-Poly', 'cs': cs[3], 'gs': GS[3], 'bounds': BOUNDS[2], 'fmt': 's-',\n",
    "#      'regs': {'alpha': 0, 'beta': .9, 'gamma': 10000, 'deltas': deltas[3]}},\n",
    "# ]"
   ]
  },
  {
   "cell_type": "markdown",
   "metadata": {},
   "source": [
    "### Run and plot experiment"
   ]
  },
  {
   "cell_type": "code",
   "execution_count": 6,
   "metadata": {
    "scrolled": true
   },
   "outputs": [
    {
     "name": "stdout",
     "output_type": "stream",
     "text": [
      "N_CPUS: 12\n",
      "----- 31.09143037398656  mins -----\n"
     ]
    }
   ],
   "source": [
    "# Estimate graph\n",
    "total_t = time.time()\n",
    "Ls_hat = np.zeros((N, N, len(models), len(MM), n_covs))\n",
    "lamds_hat = np.zeros((N, len(models), len(MM), n_covs)) \n",
    "\n",
    "print('N_CPUS:', N_CPUS)\n",
    "pool = Parallel(n_jobs=N_CPUS, verbose=0)\n",
    "resps = pool(delayed(est_graph)(i, models, MM, L, iters) for i in range(n_covs))\n",
    "for i, resp in enumerate(resps):\n",
    "    Ls_hat[:,:,:,:,i], lamds_hat[:,:,:,i] = resp\n",
    "\n",
    "total_t = time.time() - total_t\n",
    "print('-----', total_t/60, ' mins -----')"
   ]
  },
  {
   "cell_type": "code",
   "execution_count": 13,
   "metadata": {},
   "outputs": [],
   "source": [
    "err_L, err_lamb = est_errs2(L, lambdas, Ls_hat, lamds_hat, sq_err=True)\n",
    "mean_errL = np.mean(err_L, 2)\n",
    "mean_err_lam = np.mean(err_lamb, 2)\n",
    "plot_err(MM, models, mean_errL, 'Mean Err2 L')\n",
    "plot_err(MM, models, mean_err_lam, 'Mean Err2 lambdas')"
   ]
  },
  {
   "cell_type": "code",
   "execution_count": 15,
   "metadata": {},
   "outputs": [],
   "source": [
    "# Plot error 1\n",
    "err_L, err_lamb = est_errs1(L, lambdas, Ls_hat, lamds_hat)\n",
    "mean_errL = np.mean(err_L, 2)\n",
    "mean_err_lam = np.mean(err_lamb, 2)\n",
    "plot_err(MM, models, mean_errL, 'Mean Err1 L')\n"
   ]
  },
  {
   "cell_type": "code",
   "execution_count": 10,
   "metadata": {},
   "outputs": [],
   "source": [
    "# Save data\n",
    "# models_aux = [{'name': model['name'], 'fmt': model['fmt'], 'regs': \\\n",
    "#                model['regs'] if 'regs' in model.keys() else {}} \n",
    "#                for model in models]\n",
    "\n",
    "# data = {\n",
    "#     'L': L,\n",
    "#     'lambdas': lambdas,\n",
    "#     'Ls_hat': Ls_hat,\n",
    "#     'lamds_hat': lamds_hat,\n",
    "#     'MM': MM,\n",
    "#     'models': models_aux\n",
    "# }\n",
    "# file = 'students_{}covs_{}iters_graphs{}-{}'.format(n_covs, iters,\n",
    "#     graphs_idx[0], graphs_idx[1])\n",
    "# np.save('results/student_network/' + file, data)"
   ]
  },
  {
   "cell_type": "code",
   "execution_count": 11,
   "metadata": {},
   "outputs": [],
   "source": [
    "# Load data\n",
    "# %matplotlib qt\n",
    "# file = 'results/constraints/constraints_50covs_50iters.npy'\n",
    "# data = np.load(file, allow_pickle=True).item()\n",
    "# models = data['models']\n",
    "\n",
    "# L = data['L']\n",
    "# lambdas = data['lambdas']\n",
    "# Ls_hat = data['Ls_hat']\n",
    "# lamds_hat = data['lamds_hat']\n",
    "# MM = data['MM']\n",
    "# models = data['models']"
   ]
  },
  {
   "cell_type": "markdown",
   "metadata": {},
   "source": [
    "## Using graphs 9 and 7"
   ]
  },
  {
   "cell_type": "markdown",
   "metadata": {},
   "source": [
    "### Read graphs"
   ]
  },
  {
   "cell_type": "code",
   "execution_count": 23,
   "metadata": {},
   "outputs": [
    {
     "name": "stdout",
     "output_type": "stream",
     "text": [
      "\tc-0: c: 2.562\tc0: 2.500\terr: 0.062500\terr norm: 0.025000\n",
      "\tc-1: c: 10.312\tc0: 9.812\terr: 0.500000\terr norm: 0.050955\n",
      "\tc-2: c: 0.244\tc0: 0.252\terr: -0.007925\terr norm: -0.031491\n",
      "\tc-3: c: 0.656\tc0: 0.578\terr: 0.078125\terr norm: 0.135135\n"
     ]
    },
    {
     "data": {
      "text/plain": [
       "Text(0.5, 1.0, 'True Lambdas, N: 32')"
      ]
     },
     "execution_count": 23,
     "metadata": {},
     "output_type": "execute_result"
    }
   ],
   "source": [
    "graphs_idx = [9,7]\n",
    "As = utils.get_student_networks_graphs(graphs_idx, DATASET_PATH)\n",
    "A0 = As[:,:,0]\n",
    "N0 = A0.shape[0]\n",
    "L0 = np.diag(np.sum(A0, 0)) - A0\n",
    "lambdas0, _ = np.linalg.eigh(L0)\n",
    "\n",
    "A = As[:,:,1]\n",
    "N = A.shape[0]\n",
    "L = np.diag(np.sum(A, 0)) - A\n",
    "lambdas, _ = np.linalg.eigh(L)\n",
    "\n",
    "cs, _ = utils.compute_cs(GS, lambdas0, lambdas, verbose=True)\n",
    "\n",
    "plt.figure()\n",
    "nx.draw(nx..from_numpy_matrix(A0))\n",
    "plt.title('A0')\n",
    "plt.figure()\n",
    "nx.draw(nx..from_numpy_matrix(A))\n",
    "plt.title('A')\n",
    "\n",
    "figs, axs = plt.subplots(1, 2, sharey=True)\n",
    "axs[0].hist(lambdas0, density=True)\n",
    "axs[0].set_title('Ref Lambdas, N0: ' + str(N0))\n",
    "axs[1].hist(lambdas, density=True)\n",
    "axs[1].set_title('True Lambdas, N: ' + str(N))"
   ]
  },
  {
   "cell_type": "markdown",
   "metadata": {},
   "source": [
    "### Experiment parameters"
   ]
  },
  {
   "cell_type": "code",
   "execution_count": 10,
   "metadata": {},
   "outputs": [],
   "source": [
    "n_covs = 50\n",
    "MM = np.arange(50, 401, 25)\n",
    "iters = 200\n",
    "\n",
    "deltas = [.03, .88, .002, .08]\n",
    "models = [\n",
    "    # Baselines\n",
    "    # {'name': 'GLasso', 'alpha': 0.05, 'fmt': '^--'},\n",
    "    # {'name': 'GLasso', 'alpha': 0.03, 'fmt': '^--'},\n",
    "    {'name': 'MGL-Tr=1', 'cs': 1, 'gs': GS[0], 'bounds': [], 'fmt': '2--',\n",
    "     'regs': {'alpha': 0, 'beta': 1.5, 'gamma': 0, 'deltas': 1e-4}},\n",
    "    {'name': 'SGL', 'fmt': '*--', 'regs': {'alpha': 0, 'beta': 1.5, 'c1': .1, 'c2': 8, 'conn_comp': 3}},\n",
    "    {'name': 'Unc', 'cs': [], 'gs': [], 'bounds': [], 'fmt': 'v-',\n",
    "     'regs': {'alpha': 0, 'beta': 1.5, 'gamma': 0, 'deltas': []}},\n",
    "\n",
    "    # Our algorithms\n",
    "    {'name': 'MGL-Tr', 'cs': cs[0], 'gs': GS[0], 'bounds': [], 'fmt': '2-',\n",
    "     'regs': {'alpha': 0, 'beta': 1.5, 'gamma': 0, 'deltas': deltas[0]}},\n",
    "    {'name': 'MGL-Sq', 'cs': cs[1], 'gs': GS[1], 'bounds': BOUNDS[0], 'fmt': 'o-',\n",
    "     'regs': {'alpha': 0, 'beta': 1.5, 'gamma': 1000, 'deltas': deltas[1]}},\n",
    "    # {'name': 'MGL-Heat', 'cs': cs[2], 'gs': GS[2], 'bounds': BOUNDS[1], 'fmt': 'x-',\n",
    "    #  'regs': {'alpha': 0, 'beta': 1.1, 'gamma': 5000, 'deltas': deltas[2]}},\n",
    "    {'name': 'MGL-Poly', 'cs': cs[3], 'gs': GS[3], 'bounds': BOUNDS[2], 'fmt': 's-',\n",
    "     'regs': {'alpha': 0, 'beta': 1.5, 'gamma': 5000, 'deltas': deltas[3]}},\n",
    "]"
   ]
  },
  {
   "cell_type": "markdown",
   "metadata": {},
   "source": [
    "### Run and plot experiment"
   ]
  },
  {
   "cell_type": "code",
   "execution_count": 11,
   "metadata": {
    "scrolled": true
   },
   "outputs": [
    {
     "name": "stdout",
     "output_type": "stream",
     "text": [
      "N_CPUS: 12\n",
      "----- 30.087665303548178  mins -----\n"
     ]
    }
   ],
   "source": [
    "# Estimate graph\n",
    "total_t = time.time()\n",
    "Ls_hat2 = np.zeros((N, N, len(models), len(MM), n_covs))\n",
    "lamds_hat2 = np.zeros((N, len(models), len(MM), n_covs)) \n",
    "\n",
    "print('N_CPUS:', N_CPUS)\n",
    "pool = Parallel(n_jobs=N_CPUS, verbose=0)\n",
    "resps = pool(delayed(est_graph)(i, models, MM, L, iters) for i in range(n_covs))\n",
    "for i, resp in enumerate(resps):\n",
    "    Ls_hat2[:,:,:,:,i], lamds_hat2[:,:,:,i] = resp\n",
    "\n",
    "total_t = time.time() - total_t\n",
    "print('-----', total_t/60, ' mins -----')"
   ]
  },
  {
   "cell_type": "code",
   "execution_count": 22,
   "metadata": {},
   "outputs": [],
   "source": [
    "err_L, err_lamb = est_errs2(L, lambdas, Ls_hat2, lamds_hat2, sq_err=True)\n",
    "mean_errL = np.mean(err_L, 2)\n",
    "mean_err_lam = np.mean(err_lamb, 2)\n",
    "plot_err(MM, models, mean_errL, 'Mean Err2 L')\n",
    "plot_err(MM, models, mean_err_lam, 'Mean Err2 lambdas')"
   ]
  },
  {
   "cell_type": "code",
   "execution_count": 13,
   "metadata": {},
   "outputs": [
    {
     "data": {
      "image/png": "[encoded data removed]",
      "text/plain": [
       "<Figure size 432x288 with 1 Axes>"
      ]
     },
     "metadata": {
      "needs_background": "light"
     },
     "output_type": "display_data"
    }
   ],
   "source": [
    "# Plot error 1\n",
    "err_L, err_lamb = est_errs1(L, lambdas, Ls_hat2, lamds_hat2)\n",
    "mean_errL = np.mean(err_L, 2)\n",
    "mean_err_lam = np.mean(err_lamb, 2)\n",
    "plot_err(MM, models, mean_errL, 'Mean Err1 L')\n"
   ]
  },
  {
   "cell_type": "code",
   "execution_count": 14,
   "metadata": {},
   "outputs": [],
   "source": [
    "# # Save data\n",
    "# models_aux = [{'name': model['name'], 'fmt': model['fmt'], 'regs': \\\n",
    "#                model['regs'] if 'regs' in model.keys() else {}} \n",
    "#                for model in models]\n",
    "\n",
    "# data = {\n",
    "#     'L': L,\n",
    "#     'lambdas': lambdas,\n",
    "#     'Ls_hat2': Ls_hat2,\n",
    "#     'lamds_hat2': lamds_hat2,\n",
    "#     'MM': MM,\n",
    "#     'models': models_aux\n",
    "# }\n",
    "# file = 'students_{}covs_{}iters_graphs{}-{}'.format(n_covs, iters,\n",
    "#     graphs_idx[0], graphs_idx[1])\n",
    "# np.save('results/student_network/' + file, data)"
   ]
  },
  {
   "cell_type": "code",
   "execution_count": 15,
   "metadata": {},
   "outputs": [],
   "source": [
    "# Load data\n",
    "# %matplotlib qt\n",
    "# file = 'results/constraints/constraints_50covs_50iters.npy'\n",
    "# data = np.load(file, allow_pickle=True).item()\n",
    "# models = data['models']\n",
    "\n",
    "# L = data['L']\n",
    "# lambdas = data['lambdas']\n",
    "# Ls_hat2 = data['Ls_hat2']\n",
    "# lamds_hat2 = data['lamds_hat2']\n",
    "# MM = data['MM']\n",
    "# models = data['models']"
   ]
  }
 ],
 "metadata": {
  "kernelspec": {
   "display_name": "Python 3",
   "language": "python",
   "name": "python3"
  },
  "language_info": {
   "codemirror_mode": {
    "name": "ipython",
    "version": 3
   },
   "file_extension": ".py",
   "mimetype": "text/x-python",
   "name": "python",
   "nbconvert_exporter": "python",
   "pygments_lexer": "ipython3",
   "version": "3.8.3"
  }
 },
 "nbformat": 4,
 "nbformat_minor": 4
}
